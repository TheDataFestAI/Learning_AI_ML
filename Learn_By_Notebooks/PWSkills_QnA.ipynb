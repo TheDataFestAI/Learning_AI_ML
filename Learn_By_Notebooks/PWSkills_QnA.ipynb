{
  "nbformat": 4,
  "nbformat_minor": 0,
  "metadata": {
    "colab": {
      "provenance": [],
      "authorship_tag": "ABX9TyPHE+BmlP/NMJF8xdNyH3ag",
      "include_colab_link": true
    },
    "kernelspec": {
      "name": "python3",
      "display_name": "Python 3"
    },
    "language_info": {
      "name": "python"
    }
  },
  "cells": [
    {
      "cell_type": "markdown",
      "metadata": {
        "id": "view-in-github",
        "colab_type": "text"
      },
      "source": [
        "<a href=\"https://colab.research.google.com/github/TheDataFestAI/Learning_Resources/blob/main/Learn_By_Notebooks/PWSkills_QnA.ipynb\" target=\"_parent\"><img src=\"https://colab.research.google.com/assets/colab-badge.svg\" alt=\"Open In Colab\"/></a>"
      ]
    },
    {
      "cell_type": "markdown",
      "source": [
        "## week 1"
      ],
      "metadata": {
        "id": "VAfbh1bnqm6l"
      }
    },
    {
      "cell_type": "markdown",
      "source": [
        "### Q1: Explain the significance of Python keywords and provide examples of five keywords?"
      ],
      "metadata": {
        "id": "rQmEj1Jkq1rW"
      }
    },
    {
      "cell_type": "markdown",
      "source": [
        "Ans:\n",
        "\n",
        "1. Python keywords are reserved and can't use in names to identify any objects\n",
        "2. sample keywords are - if, else, return, print, break"
      ],
      "metadata": {
        "id": "iZufZ0xMuI0V"
      }
    },
    {
      "cell_type": "markdown",
      "source": [
        "### Q2: Describe the rules for defining identifiers in Python and provide an example?"
      ],
      "metadata": {
        "id": "cvMVsZUhrEKi"
      }
    },
    {
      "cell_type": "markdown",
      "source": [
        "Ans:\n",
        "\n",
        "1. **First rule** is that only alphabets, numeric values and underscore are allowed to create identifiers. **Second rule** is that, identifier can only starts with underscore or alphabets not numeric value. And also, Identifiers should be meaningful.\n",
        "2. example - `a = 123`\n",
        "3.\n",
        "```shell\n",
        "# get list of python keywords\n",
        "help(\"keywords\")\n",
        "```"
      ],
      "metadata": {
        "id": "JE7pHTdmuefr"
      }
    },
    {
      "cell_type": "markdown",
      "source": [
        "### Q3: What are comments are in Python, and why are they useful? Prove an example."
      ],
      "metadata": {
        "id": "kVSziPwBs2NA"
      }
    },
    {
      "cell_type": "markdown",
      "source": [
        "Ans:\n",
        "\n",
        "1. comments are starts with \"# single line\" or \"\"\"multi line\"\"\"\" and used to describe the short details about the code or statements. Comments also ignored by the python interpreter.\n",
        "2. They are useful for developers who trying to understand the existing code, written by another developer.\n",
        "3.\n",
        "```python\n",
        "# this is a comment\n",
        "a = 1  # value assigned into variable\n",
        "```"
      ],
      "metadata": {
        "id": "U3NJy6OnukWZ"
      }
    },
    {
      "cell_type": "markdown",
      "source": [
        "### Q4: Why is proper indentation inportant in Python?"
      ],
      "metadata": {
        "id": "iQTkt7quvZvF"
      }
    },
    {
      "cell_type": "markdown",
      "source": [
        "Ans:\n",
        "\n",
        "1. As there is no way to specify the scope of loop or conditional logic or end of statements, so we need to follow proper indentation in python."
      ],
      "metadata": {
        "id": "Vf3GW13VvkiO"
      }
    },
    {
      "cell_type": "markdown",
      "source": [
        "### Q5: What happens if indentation is incorrect in Python?"
      ],
      "metadata": {
        "id": "EGi95e0HwLuu"
      }
    },
    {
      "cell_type": "markdown",
      "source": [
        "ans:\n",
        "\n",
        "1. whithout proper indention, python interpreter will raise IndentationError and program will be failed."
      ],
      "metadata": {
        "id": "PY4eKryfx9MM"
      }
    },
    {
      "cell_type": "markdown",
      "source": [
        "### Q6: Differentiate between expression and statement in python with example."
      ],
      "metadata": {
        "id": "PTB9HI6Ewc33"
      }
    },
    {
      "cell_type": "markdown",
      "source": [
        "Ans:\n",
        "\n",
        "id | expression | statement\n",
        ":--- | :--- | :---\n",
        "1 | expression is also one type of statement | statement can be conditional, return or expression etc.\n",
        "2 | here actual operation happend and after evaluating, output is stored into variable | statement is basically lines of code for some purpose\n",
        "3 | example: `x = a + 1` | example: `print(\"hello world\") # print statement`"
      ],
      "metadata": {
        "id": "l0FKM7eNwndd"
      }
    }
  ]
}