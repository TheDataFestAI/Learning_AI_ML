{
  "nbformat": 4,
  "nbformat_minor": 0,
  "metadata": {
    "colab": {
      "provenance": [],
      "toc_visible": true,
      "authorship_tag": "ABX9TyN4habPV77x+zOflsQOF9AN",
      "include_colab_link": true
    },
    "kernelspec": {
      "name": "python3",
      "display_name": "Python 3"
    },
    "language_info": {
      "name": "python"
    }
  },
  "cells": [
    {
      "cell_type": "markdown",
      "metadata": {
        "id": "view-in-github",
        "colab_type": "text"
      },
      "source": [
        "<a href=\"https://colab.research.google.com/github/TheDataFestAI/Learning_Resources/blob/main/learning_notebooks/understand_matrix_in_python.ipynb\" target=\"_parent\"><img src=\"https://colab.research.google.com/assets/colab-badge.svg\" alt=\"Open In Colab\"/></a>"
      ]
    },
    {
      "cell_type": "markdown",
      "source": [
        "# Matrix Multiplication:"
      ],
      "metadata": {
        "id": "GwCwTOoc0KRM"
      }
    },
    {
      "cell_type": "markdown",
      "source": [
        "## `matrix_a(3*3) * matrix_b(3*3)`"
      ],
      "metadata": {
        "id": "wqhmAItX0Pdp"
      }
    },
    {
      "cell_type": "code",
      "execution_count": 3,
      "metadata": {
        "id": "LbGrcmRnUAtk"
      },
      "outputs": [],
      "source": [
        "matrix_a = [[1,2,3], [4,5,6], [7,8,9]]\n",
        "matrix_b = [[9,8,7], [6,5,4], [3,2,1]]"
      ]
    },
    {
      "cell_type": "code",
      "source": [
        "\"\"\"\n",
        "# step 1:\n",
        "    loop through left_matrix\n",
        "    and another child loop through right_matrix\n",
        "\"\"\"\n",
        "for i in matrix_a:\n",
        "    for j in matrix_b:\n",
        "        print(i, j)"
      ],
      "metadata": {
        "colab": {
          "base_uri": "https://localhost:8080/"
        },
        "id": "wPnex9JlyoVM",
        "outputId": "7e5bf557-ca6a-4839-cb72-63a9e2a5bb5b"
      },
      "execution_count": 17,
      "outputs": [
        {
          "output_type": "stream",
          "name": "stdout",
          "text": [
            "[1, 2, 3] [9, 8, 7]\n",
            "[1, 2, 3] [6, 5, 4]\n",
            "[1, 2, 3] [3, 2, 1]\n",
            "[4, 5, 6] [9, 8, 7]\n",
            "[4, 5, 6] [6, 5, 4]\n",
            "[4, 5, 6] [3, 2, 1]\n",
            "[7, 8, 9] [9, 8, 7]\n",
            "[7, 8, 9] [6, 5, 4]\n",
            "[7, 8, 9] [3, 2, 1]\n"
          ]
        }
      ]
    },
    {
      "cell_type": "code",
      "source": [
        "\"\"\"\n",
        "# step 2:\n",
        "    use range(len()) will iterate through\n",
        "    the index of each and every row element and col element\n",
        "\"\"\"\n",
        "for i in range(len(matrix_a)):\n",
        "    for j in range(len(matrix_b)):\n",
        "        print(i, j)"
      ],
      "metadata": {
        "colab": {
          "base_uri": "https://localhost:8080/"
        },
        "id": "SWi7XzbWylGw",
        "outputId": "212f720f-10f8-4d6f-8c30-7e403ca4c91c"
      },
      "execution_count": 15,
      "outputs": [
        {
          "output_type": "stream",
          "name": "stdout",
          "text": [
            "0 0\n",
            "0 1\n",
            "0 2\n",
            "1 0\n",
            "1 1\n",
            "1 2\n",
            "2 0\n",
            "2 1\n",
            "2 2\n"
          ]
        }
      ]
    },
    {
      "cell_type": "code",
      "source": [
        "\"\"\"\n",
        "# step 3:\n",
        "    need another child loop to\n",
        "\"\"\"\n",
        "for i in range(len(matrix_a)):\n",
        "    for j in range(len(matrix_b)):\n",
        "        for k in range(len(matrix_b)):\n",
        "            print(i, j, k)"
      ],
      "metadata": {
        "colab": {
          "base_uri": "https://localhost:8080/"
        },
        "id": "jmizLfcyvmXq",
        "outputId": "770b097f-f81c-4145-ded1-093a41b12696"
      },
      "execution_count": 14,
      "outputs": [
        {
          "output_type": "stream",
          "name": "stdout",
          "text": [
            "0 0 0\n",
            "0 0 1\n",
            "0 0 2\n",
            "0 1 0\n",
            "0 1 1\n",
            "0 1 2\n",
            "0 2 0\n",
            "0 2 1\n",
            "0 2 2\n",
            "1 0 0\n",
            "1 0 1\n",
            "1 0 2\n",
            "1 1 0\n",
            "1 1 1\n",
            "1 1 2\n",
            "1 2 0\n",
            "1 2 1\n",
            "1 2 2\n",
            "2 0 0\n",
            "2 0 1\n",
            "2 0 2\n",
            "2 1 0\n",
            "2 1 1\n",
            "2 1 2\n",
            "2 2 0\n",
            "2 2 1\n",
            "2 2 2\n"
          ]
        }
      ]
    },
    {
      "cell_type": "code",
      "source": [
        "result = [[0,0,0], [0,0,0], [0,0,0]]\n",
        "\n",
        "for i in range(len(matrix_a)):\n",
        "    for j in range(len(matrix_b[0])):\n",
        "        for k in range(len(matrix_b)):\n",
        "            result[i][j] += matrix_a[i][k] * matrix_b[k][j]\n",
        "\n",
        "for i in result:\n",
        "    print(i)"
      ],
      "metadata": {
        "id": "x7deGKlgb2rp"
      },
      "execution_count": null,
      "outputs": []
    }
  ]
}