{
  "nbformat": 4,
  "nbformat_minor": 0,
  "metadata": {
    "colab": {
      "provenance": [],
      "toc_visible": true,
      "include_colab_link": true
    },
    "kernelspec": {
      "name": "python3",
      "display_name": "Python 3"
    },
    "language_info": {
      "name": "python"
    }
  },
  "cells": [
    {
      "cell_type": "markdown",
      "metadata": {
        "id": "view-in-github",
        "colab_type": "text"
      },
      "source": [
        "<a href=\"https://colab.research.google.com/github/TheDataFestAI/Learning_Resources/blob/main/Learn_By_Notebooks/Learn_Python.ipynb\" target=\"_parent\"><img src=\"https://colab.research.google.com/assets/colab-badge.svg\" alt=\"Open In Colab\"/></a>"
      ]
    },
    {
      "cell_type": "markdown",
      "source": [
        "# Learn Python\n",
        "\n",
        "Learn Python in step by step."
      ],
      "metadata": {
        "id": "-mhZ20gex4JS"
      }
    },
    {
      "cell_type": "markdown",
      "source": [
        "# What is Programming Language?"
      ],
      "metadata": {
        "id": "sbt4DvN1_LA-"
      }
    },
    {
      "cell_type": "markdown",
      "source": [
        "1. **Programming language:** through this, humans can instruct or interact with the computer instead of writing in binary code as computer only understand binary digits (0, 1)."
      ],
      "metadata": {
        "id": "NS-XFOyj9RGC"
      }
    },
    {
      "cell_type": "markdown",
      "source": [
        "## Classification of Programming Language:"
      ],
      "metadata": {
        "id": "O3eDsbJZ5a0v"
      }
    },
    {
      "cell_type": "markdown",
      "source": [
        "1. **Procedural Programming language:** In 1980's most of the problems was mathematical or statistical. That time it's enough to instruct computer through a conditional logic or pattern like flowchart diagram. In this language, we break the problem statement into smaller chunks and made binary decisions. `Example: C language`\n",
        "\n",
        "\n",
        "2. **Object Oriented Language:** In 2000's when internet was invented, humans instruct computer to solve real world problems by defining different entities as different objects by specifying their behaviour/characteristics. Also create relationships between the objects (oops concept). `Example: C++ , Java`\n",
        "\n",
        "3. **Functional Programming:** OOPS required more lines of code to develop an application and it's process little slowly, functional programming became very famous to write quick/efficient applications and faster executions. `Example: Scala`"
      ],
      "metadata": {
        "id": "U9pPRv_K9MpD"
      }
    },
    {
      "cell_type": "markdown",
      "source": [
        "# What is Python?\n",
        "\n",
        "1. **Python** is Procedural, Object orientated and Functional language."
      ],
      "metadata": {
        "id": "AInTTQaaBv8G"
      }
    },
    {
      "cell_type": "markdown",
      "source": [
        "# Python Installation:"
      ],
      "metadata": {
        "id": "dexgaWF1CMuG"
      }
    },
    {
      "cell_type": "markdown",
      "source": [
        "1. Goto \"https://www.python.org/downloads/\" url and download first and then install the python in your local machine or use google colab which has readymade python environment with other python packages"
      ],
      "metadata": {
        "id": "BlAY-C-_9H9L"
      }
    },
    {
      "cell_type": "markdown",
      "source": [
        "# Python Keywords:"
      ],
      "metadata": {
        "id": "t9ZGcqdfyWuN"
      }
    },
    {
      "cell_type": "markdown",
      "source": [
        "1. `python keywords` are **reserved words** by python and can't be used in names\n",
        "\n",
        "2. Find list of python keywords-\n",
        "    ```shell\n",
        "    help('keywords')\n",
        "    ```"
      ],
      "metadata": {
        "id": "jQmroPze9CFp"
      }
    },
    {
      "cell_type": "markdown",
      "source": [
        "# Python Identifiers:\n",
        "\n",
        "1. `Identifiers` are those which represents variable name, class name or function name.\n",
        "\n",
        "2. Basically it identifies either value or function or class or file.\n",
        "\n",
        "3. There are rules for python identifiers:\n",
        "    1. identifier name can contains alphabets, numeric values and few special character as \"_\"."
      ],
      "metadata": {
        "id": "knxdsKIQ86tg"
      }
    },
    {
      "cell_type": "markdown",
      "source": [
        "# Variable:\n",
        "\n",
        "1. `variable` indicates certain value."
      ],
      "metadata": {
        "id": "b7FlP9qn7ReI"
      }
    },
    {
      "cell_type": "markdown",
      "source": [
        "## str():"
      ],
      "metadata": {
        "id": "I_lKekEJFDoc"
      }
    },
    {
      "cell_type": "code",
      "source": [
        "# bytes to string conversion\n",
        "# different types to use print function with formatted string\n",
        "\n",
        "b = b\"hello world\"\n",
        "print(f\"bytes value: {b}, type: {type(b)}\")\n",
        "\n",
        "# if you are not passing \"encoding\" parameter in str(), it will keep b\"<string>\" instead of <string>\n",
        "s = str(b)\n",
        "print(f\"bytes string value: {s}, type: {type(s)}\")\n",
        "\n",
        "s1 = str(b, \"UTF-8\")\n",
        "print(f\"string value: {s1}, type: {type(s1)}\")"
      ],
      "metadata": {
        "id": "TX4vCpjOFEjX",
        "outputId": "095cf380-39b1-4ac5-f43d-2600484b49d5",
        "colab": {
          "base_uri": "https://localhost:8080/"
        }
      },
      "execution_count": 1,
      "outputs": [
        {
          "output_type": "stream",
          "name": "stdout",
          "text": [
            "bytes value: b'hello world', type: <class 'bytes'>\n",
            "bytes string value: b'hello world', type: <class 'str'>\n",
            "string value: hello world, type: <class 'str'>\n"
          ]
        }
      ]
    },
    {
      "cell_type": "markdown",
      "source": [
        "## Collection - list():"
      ],
      "metadata": {
        "id": "2C7kjbu7Fngs"
      }
    },
    {
      "cell_type": "code",
      "source": [
        "ls1 = list()\n",
        "ls2 = []\n",
        "\n",
        "print(f\"ls1: {ls1}, {type(ls1)}\")\n",
        "print(f\"ls2: {ls2}, {type(ls2)}\")\n",
        "\n",
        "if ls1 is ls2:\n",
        "    print(\"both are same\")\n",
        "else:\n",
        "    print(\"both are not same\")"
      ],
      "metadata": {
        "id": "qMLisX8aFobX",
        "outputId": "6d2bb7a6-8be3-438a-8618-15a670889669",
        "colab": {
          "base_uri": "https://localhost:8080/"
        }
      },
      "execution_count": 2,
      "outputs": [
        {
          "output_type": "stream",
          "name": "stdout",
          "text": [
            "ls1: [], <class 'list'>\n",
            "ls2: [], <class 'list'>\n",
            "both are not same\n"
          ]
        }
      ]
    },
    {
      "cell_type": "markdown",
      "source": [
        "### list: add items"
      ],
      "metadata": {
        "id": "9bp1VyMaKpqv"
      }
    },
    {
      "cell_type": "markdown",
      "source": [
        "insert()\n",
        "\n",
        "```python\n",
        "insert(<index>, <value>)\n",
        "```"
      ],
      "metadata": {
        "id": "oWgGs0hWKvnE"
      }
    },
    {
      "cell_type": "code",
      "source": [
        "ls8 = [1,3]\n",
        "ls8.insert(1, \"2\")\n",
        "print(ls8)"
      ],
      "metadata": {
        "id": "PsxE3V5IKyvA"
      },
      "execution_count": null,
      "outputs": []
    },
    {
      "cell_type": "markdown",
      "source": [
        "append() and extend()-\n",
        "\n",
        "1. append takes individual items and insert directly\n",
        "2. extend takes iterable items and insert single element from that iterable items"
      ],
      "metadata": {
        "id": "afTuIzZ2KzlD"
      }
    },
    {
      "cell_type": "code",
      "source": [
        "ls5 = [1,2]\n",
        "ls6 = [2,3]\n",
        "\n",
        "print(f\"original list: {ls5}\")\n",
        "ls5.extend(ls6)\n",
        "print(f\"original list after extend: {ls5}\")\n",
        "\n",
        "ls5 = [1,2]\n",
        "ls6 = [2,3]\n",
        "print(f\"original list: {ls5}\")\n",
        "ls5.append(ls6)\n",
        "print(f\"original list after append: {ls5}\")"
      ],
      "metadata": {
        "id": "f5pSWZg7K8Aa"
      },
      "execution_count": null,
      "outputs": []
    },
    {
      "cell_type": "markdown",
      "source": [
        "### list: sorting"
      ],
      "metadata": {
        "id": "S5Jlc_TrFyPD"
      }
    },
    {
      "cell_type": "code",
      "source": [
        "ls3 = [1, 2,5, 3, 4]\n",
        "\n",
        "print(f\"original list before sorting: {ls3}\")\n",
        "ls3.sort()\n",
        "print(f\"original list after sorting: {ls3}\")"
      ],
      "metadata": {
        "id": "1wT-TBcgF7uv"
      },
      "execution_count": null,
      "outputs": []
    },
    {
      "cell_type": "markdown",
      "source": [
        "### list: remove element"
      ],
      "metadata": {
        "id": "fkT4lOdCF_vH"
      }
    },
    {
      "cell_type": "markdown",
      "source": [
        "1. **remove()** takes actual value as parameter which will be removed.\n",
        "2. **pop(index=-1)**, always delete from last element, but can delete from specified index"
      ],
      "metadata": {
        "id": "p3TLl9jtGE4Y"
      }
    },
    {
      "cell_type": "code",
      "source": [
        "ls7 = [1,\"pal\", 2,3,4, \"indra\"]\n",
        "print(f\"ls7: {ls7}\")\n",
        "\n",
        "# removing \"indra\"\n",
        "out = ls7.remove(\"indra\")\n",
        "print(f\"after removing 'indra', ls7: {ls7}, out: {out}\")\n",
        "\n",
        "# remove from last element\n",
        "out = ls7.pop()\n",
        "print(f\"after remove from last element, ls7: {ls7}, out: {out}\")\n",
        "\n",
        "# remove 2nd element, \"pal\"\n",
        "out = ls7.pop(1)  # <del ls7[1]> also doing same\n",
        "print(f\"after remove from 2nd element, ls7: {ls7}, out: {out}\")"
      ],
      "metadata": {
        "id": "uLe5OMNaGAz_"
      },
      "execution_count": null,
      "outputs": []
    },
    {
      "cell_type": "markdown",
      "source": [
        "### list: extras"
      ],
      "metadata": {
        "id": "_egfDQ_xLaie"
      }
    },
    {
      "cell_type": "code",
      "source": [
        "# remove duplicates from list\n",
        "\n",
        "ls4 = [1, 2,5, 3,5, 4, 2]\n",
        "\n",
        "print(f\"original list: {ls4}\")\n",
        "set1 = set(ls4)\n",
        "ls4 = list(set1)\n",
        "print(f\"original list after remove duplicates: {ls4}\")"
      ],
      "metadata": {
        "id": "E0f4sj_vLd9Z"
      },
      "execution_count": null,
      "outputs": []
    },
    {
      "cell_type": "markdown",
      "source": [
        "## Collection - tupple():"
      ],
      "metadata": {
        "id": "JKQpEbGkLImQ"
      }
    },
    {
      "cell_type": "code",
      "source": [
        "t1 = (1,2,3)\n",
        "for i in t1:\n",
        "    print(i)"
      ],
      "metadata": {
        "id": "uW6eVroMLM4A"
      },
      "execution_count": null,
      "outputs": []
    },
    {
      "cell_type": "markdown",
      "source": [
        "# Operators"
      ],
      "metadata": {
        "id": "-Vk4aXMSyim-"
      }
    },
    {
      "cell_type": "markdown",
      "source": [
        "# Conditional Logic"
      ],
      "metadata": {
        "id": "vwz0ynGey236"
      }
    },
    {
      "cell_type": "markdown",
      "source": [
        "## if-else"
      ],
      "metadata": {
        "id": "Q0Zj9RXd19yT"
      }
    },
    {
      "cell_type": "markdown",
      "source": [
        "# Loop or Iteration"
      ],
      "metadata": {
        "id": "sFgxAbcP11JH"
      }
    },
    {
      "cell_type": "markdown",
      "source": [
        "## for loop"
      ],
      "metadata": {
        "id": "9js1LkB14ASy"
      }
    },
    {
      "cell_type": "markdown",
      "source": [
        "## while loop"
      ],
      "metadata": {
        "id": "s6Nyqw1N4Cgc"
      }
    },
    {
      "cell_type": "markdown",
      "source": [
        "# functions"
      ],
      "metadata": {
        "id": "ccNbVB6q6kJS"
      }
    },
    {
      "cell_type": "markdown",
      "source": [
        "# class and object"
      ],
      "metadata": {
        "id": "8fyTXKIs6mLO"
      }
    },
    {
      "cell_type": "markdown",
      "source": [
        "# exception handling"
      ],
      "metadata": {
        "id": "JJTScb_D6pEX"
      }
    },
    {
      "cell_type": "markdown",
      "source": [
        "## try-except-finally"
      ],
      "metadata": {
        "id": "naHUfDp3LlHA"
      }
    },
    {
      "cell_type": "code",
      "source": [
        "a = 10\n",
        "try:\n",
        "    b = a/0\n",
        "    print(f\"b: {b}\")\n",
        "except Exception as e:\n",
        "    print(f\"error occured: {e}\")\n",
        "finally:\n",
        "    print(f\"finally block\")"
      ],
      "metadata": {
        "id": "UbvmxiN7LkFp"
      },
      "execution_count": null,
      "outputs": []
    },
    {
      "cell_type": "markdown",
      "source": [
        "## try-except-else-finally"
      ],
      "metadata": {
        "id": "YRyme-kFLnYb"
      }
    },
    {
      "cell_type": "code",
      "source": [
        "a = 10\n",
        "try:\n",
        "    b = a/2\n",
        "    print(f\"b: {b}\")\n",
        "except Exception as e:\n",
        "    print(f\"error occured: {e}\")\n",
        "else:\n",
        "    print(f\"no exception is there\")\n",
        "finally:\n",
        "    print(f\"finally block\")"
      ],
      "metadata": {
        "id": "mxWKRK8XLn11"
      },
      "execution_count": null,
      "outputs": []
    },
    {
      "cell_type": "markdown",
      "source": [
        "# data types and data structures"
      ],
      "metadata": {
        "id": "D_abkNLG6sSF"
      }
    },
    {
      "cell_type": "markdown",
      "source": [
        "# Doubts and QnA:"
      ],
      "metadata": {
        "id": "HdAW5JFdAR7G"
      }
    }
  ]
}