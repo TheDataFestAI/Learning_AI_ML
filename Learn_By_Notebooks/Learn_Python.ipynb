{
  "nbformat": 4,
  "nbformat_minor": 0,
  "metadata": {
    "colab": {
      "provenance": [],
      "toc_visible": true,
      "include_colab_link": true
    },
    "kernelspec": {
      "name": "python3",
      "display_name": "Python 3"
    },
    "language_info": {
      "name": "python"
    }
  },
  "cells": [
    {
      "cell_type": "markdown",
      "metadata": {
        "id": "view-in-github",
        "colab_type": "text"
      },
      "source": [
        "<a href=\"https://colab.research.google.com/github/TheDataFestAI/Learning_Resources/blob/main/Learn_By_Notebooks/Learn_Python.ipynb\" target=\"_parent\"><img src=\"https://colab.research.google.com/assets/colab-badge.svg\" alt=\"Open In Colab\"/></a>"
      ]
    },
    {
      "cell_type": "markdown",
      "source": [
        "# Learn Python\n",
        "\n",
        "Learn Python in step by step."
      ],
      "metadata": {
        "id": "-mhZ20gex4JS"
      }
    },
    {
      "cell_type": "markdown",
      "source": [
        "# What is Programming Language?"
      ],
      "metadata": {
        "id": "sbt4DvN1_LA-"
      }
    },
    {
      "cell_type": "markdown",
      "source": [
        "1. **Programming language:** through this, humans can instruct or interact with the computer instead of writing in binary code as computer only understand binary digits (0, 1)."
      ],
      "metadata": {
        "id": "NS-XFOyj9RGC"
      }
    },
    {
      "cell_type": "markdown",
      "source": [
        "## Classification of Programming Language:"
      ],
      "metadata": {
        "id": "O3eDsbJZ5a0v"
      }
    },
    {
      "cell_type": "markdown",
      "source": [
        "1. **Procedural Programming language:** In 1980's most of the problems was mathematical or statistical. That time it's enough to instruct computer through a conditional logic or pattern like flowchart diagram. In this language, we break the problem statement into smaller chunks and made binary decisions. `Example: C language`\n",
        "\n",
        "\n",
        "2. **Object Oriented Language:** In 2000's when internet was invented, humans instruct computer to solve real world problems by defining different entities as different objects by specifying their behaviour/characteristics. Also create relationships between the objects (oops concept). `Example: C++ , Java`\n",
        "\n",
        "3. **Functional Programming:** OOPS required more lines of code to develop an application and it's process little slowly, functional programming became very famous to write quick/efficient applications and faster executions. `Example: Scala`"
      ],
      "metadata": {
        "id": "U9pPRv_K9MpD"
      }
    },
    {
      "cell_type": "markdown",
      "source": [
        "# What is Python?\n",
        "\n",
        "1. **Python** is Procedural, Object orientated and Functional language."
      ],
      "metadata": {
        "id": "AInTTQaaBv8G"
      }
    },
    {
      "cell_type": "markdown",
      "source": [
        "# Python Installation:"
      ],
      "metadata": {
        "id": "dexgaWF1CMuG"
      }
    },
    {
      "cell_type": "markdown",
      "source": [
        "1. Goto \"https://www.python.org/downloads/\" url and download first and then install the python in your local machine or use google colab which has readymade python environment with other python packages"
      ],
      "metadata": {
        "id": "BlAY-C-_9H9L"
      }
    },
    {
      "cell_type": "markdown",
      "source": [
        "# Python Keywords:"
      ],
      "metadata": {
        "id": "t9ZGcqdfyWuN"
      }
    },
    {
      "cell_type": "markdown",
      "source": [
        "1. `python keywords` are **reserved words** by python and can't be used in names\n",
        "\n",
        "2. Find list of python keywords-\n",
        "    ```shell\n",
        "    help('keywords')\n",
        "    ```"
      ],
      "metadata": {
        "id": "jQmroPze9CFp"
      }
    },
    {
      "cell_type": "markdown",
      "source": [
        "# Python Identifiers:\n",
        "\n",
        "1. `Identifiers` are those which represents variable name, class name or function name.\n",
        "\n",
        "2. Basically it identifies either value or function or class or file.\n",
        "\n",
        "3. There are rules for python identifiers:\n",
        "    1. identifier name can contains alphabets, numeric values and few special character as \"_\"."
      ],
      "metadata": {
        "id": "knxdsKIQ86tg"
      }
    },
    {
      "cell_type": "markdown",
      "source": [
        "# Variable\n",
        "\n",
        "1. `variable` indicates certain value."
      ],
      "metadata": {
        "id": "b7FlP9qn7ReI"
      }
    },
    {
      "cell_type": "markdown",
      "source": [
        "# Operators"
      ],
      "metadata": {
        "id": "-Vk4aXMSyim-"
      }
    },
    {
      "cell_type": "markdown",
      "source": [
        "# Conditional Logic"
      ],
      "metadata": {
        "id": "vwz0ynGey236"
      }
    },
    {
      "cell_type": "markdown",
      "source": [
        "## if-else"
      ],
      "metadata": {
        "id": "Q0Zj9RXd19yT"
      }
    },
    {
      "cell_type": "markdown",
      "source": [
        "# Loop or Iteration"
      ],
      "metadata": {
        "id": "sFgxAbcP11JH"
      }
    },
    {
      "cell_type": "markdown",
      "source": [
        "## for loop"
      ],
      "metadata": {
        "id": "9js1LkB14ASy"
      }
    },
    {
      "cell_type": "markdown",
      "source": [
        "## while loop"
      ],
      "metadata": {
        "id": "s6Nyqw1N4Cgc"
      }
    },
    {
      "cell_type": "markdown",
      "source": [
        "# functions"
      ],
      "metadata": {
        "id": "ccNbVB6q6kJS"
      }
    },
    {
      "cell_type": "markdown",
      "source": [
        "# class and object"
      ],
      "metadata": {
        "id": "8fyTXKIs6mLO"
      }
    },
    {
      "cell_type": "markdown",
      "source": [
        "# exception handling"
      ],
      "metadata": {
        "id": "JJTScb_D6pEX"
      }
    },
    {
      "cell_type": "markdown",
      "source": [
        "# data types and data structures"
      ],
      "metadata": {
        "id": "D_abkNLG6sSF"
      }
    },
    {
      "cell_type": "markdown",
      "source": [
        "# Doubts and QnA:"
      ],
      "metadata": {
        "id": "HdAW5JFdAR7G"
      }
    }
  ]
}