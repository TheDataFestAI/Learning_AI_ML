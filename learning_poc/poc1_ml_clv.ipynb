{
  "nbformat": 4,
  "nbformat_minor": 0,
  "metadata": {
    "colab": {
      "provenance": [],
      "authorship_tag": "ABX9TyNjdSxACsM13JFDBBxVSUbe",
      "include_colab_link": true
    },
    "kernelspec": {
      "name": "python3",
      "display_name": "Python 3"
    },
    "language_info": {
      "name": "python"
    }
  },
  "cells": [
    {
      "cell_type": "markdown",
      "metadata": {
        "id": "view-in-github",
        "colab_type": "text"
      },
      "source": [
        "<a href=\"https://colab.research.google.com/github/TheDataFestAI/Learning_Resources/blob/main/learning_poc/poc1_ml_clv.ipynb\" target=\"_parent\"><img src=\"https://colab.research.google.com/assets/colab-badge.svg\" alt=\"Open In Colab\"/></a>"
      ]
    },
    {
      "cell_type": "markdown",
      "source": [
        "# POC for CLV (Customer Life Cycle Value)"
      ],
      "metadata": {
        "id": "ge24YrqXfUmf"
      }
    },
    {
      "cell_type": "markdown",
      "source": [
        "## Reference:\n",
        "\n",
        "1. Domain Knowledge:\n",
        "    1. https://www.analyticsvidhya.com/blog/2020/10/a-definitive-guide-for-predicting-customer-lifetime-value-clv/\n",
        "    2. https://towardsdatascience.com/data-driven-growth-with-python-part-3-customer-lifetime-value-prediction-6017802f2e0f\n",
        "    3. https://www.kaggle.com/code/shailaja4247/customer-lifetime-value-prediction"
      ],
      "metadata": {
        "id": "_fULM9KBgqgZ"
      }
    },
    {
      "cell_type": "markdown",
      "source": [
        "## Step 1: Get the source data from Kaggle\n",
        "\n",
        "Ref:"
      ],
      "metadata": {
        "id": "-vo34n5Qn-m3"
      }
    },
    {
      "cell_type": "markdown",
      "source": [
        "### Install the required python packages"
      ],
      "metadata": {
        "id": "B0HhxX9IszoL"
      }
    },
    {
      "cell_type": "code",
      "source": [
        "! pip install -q kaggle"
      ],
      "metadata": {
        "id": "nQNLWu3IfZWR"
      },
      "execution_count": 1,
      "outputs": []
    },
    {
      "cell_type": "code",
      "source": [
        "# from google.colab import userdata\n",
        "# userdata.get('kaggle_auth')\n"
      ],
      "metadata": {
        "id": "r4GR9v2DsxcI"
      },
      "execution_count": 2,
      "outputs": []
    }
  ]
}