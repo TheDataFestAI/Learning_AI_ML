{
  "nbformat": 4,
  "nbformat_minor": 0,
  "metadata": {
    "colab": {
      "provenance": [],
      "toc_visible": true,
      "include_colab_link": true
    },
    "kernelspec": {
      "name": "python3",
      "display_name": "Python 3"
    },
    "language_info": {
      "name": "python"
    }
  },
  "cells": [
    {
      "cell_type": "markdown",
      "metadata": {
        "id": "view-in-github",
        "colab_type": "text"
      },
      "source": [
        "<a href=\"https://colab.research.google.com/github/TheDataFestAI/Learning_Resources/blob/main/notebooks/learn_python_basics.ipynb\" target=\"_parent\"><img src=\"https://colab.research.google.com/assets/colab-badge.svg\" alt=\"Open In Colab\"/></a>"
      ]
    },
    {
      "cell_type": "markdown",
      "source": [
        "# Learn Python\n",
        "\n",
        "Learn Python in step by step."
      ],
      "metadata": {
        "id": "-mhZ20gex4JS"
      }
    },
    {
      "cell_type": "markdown",
      "source": [
        "# What is Programming Language?"
      ],
      "metadata": {
        "id": "sbt4DvN1_LA-"
      }
    },
    {
      "cell_type": "markdown",
      "source": [
        "1. **Programming language:** through this, humans can instruct or interact with the computer instead of writing in binary code as computer only understand binary digits (0, 1)."
      ],
      "metadata": {
        "id": "NS-XFOyj9RGC"
      }
    },
    {
      "cell_type": "markdown",
      "source": [
        "## Classification of Programming Language:"
      ],
      "metadata": {
        "id": "O3eDsbJZ5a0v"
      }
    },
    {
      "cell_type": "markdown",
      "source": [
        "1. **Procedural Programming language:** In 1980's most of the problems was mathematical or statistical. That time it's enough to instruct computer through a conditional logic or pattern like flowchart diagram. In this language, we break the problem statement into smaller chunks and made binary decisions. `Example: C language`\n",
        "\n",
        "\n",
        "2. **Object Oriented Language:** In 2000's when internet was invented, humans instruct computer to solve real world problems by defining different entities as different objects by specifying their behaviour/characteristics. Also create relationships between the objects (oops concept). `Example: C++ , Java`\n",
        "\n",
        "3. **Functional Programming:** OOPS required more lines of code to develop an application and it's process little slowly, functional programming became very famous to write quick/efficient applications and faster executions. `Example: Scala`"
      ],
      "metadata": {
        "id": "U9pPRv_K9MpD"
      }
    },
    {
      "cell_type": "markdown",
      "source": [
        "## Compiled and Interpreted language:"
      ],
      "metadata": {
        "id": "v-IaciRrnapV"
      }
    },
    {
      "cell_type": "markdown",
      "source": [
        "## High level and low level programming language:"
      ],
      "metadata": {
        "id": "e2KHnwb7nSxj"
      }
    },
    {
      "cell_type": "markdown",
      "source": [
        "# What is Python?\n",
        "\n",
        "1. Python is **Procedural, Object orientated and Functional language**.\n",
        "2. Its a **interpreted language**.\n",
        "3. Its a **high level language**.\n",
        "4. Python is **case sensitive**. Means in `var1 = \"aBc\" and Var1 = \"aBc\"`, both var1 and Var1 are not same"
      ],
      "metadata": {
        "id": "AInTTQaaBv8G"
      }
    },
    {
      "cell_type": "markdown",
      "source": [
        "# Python Installation:"
      ],
      "metadata": {
        "id": "dexgaWF1CMuG"
      }
    },
    {
      "cell_type": "markdown",
      "source": [
        "1. Goto \"https://www.python.org/downloads/\" url and download first and then install the python in your local machine or use google colab which has readymade python environment with other python packages"
      ],
      "metadata": {
        "id": "BlAY-C-_9H9L"
      }
    },
    {
      "cell_type": "markdown",
      "source": [
        "# Python Keywords:"
      ],
      "metadata": {
        "id": "t9ZGcqdfyWuN"
      }
    },
    {
      "cell_type": "markdown",
      "source": [
        "1. `python keywords` are **reserved words** by python and can't be used in names\n",
        "\n",
        "2. Find list of python keywords-\n",
        "    ```shell\n",
        "    help('keywords')\n",
        "    ```"
      ],
      "metadata": {
        "id": "jQmroPze9CFp"
      }
    },
    {
      "cell_type": "markdown",
      "source": [
        "# Comments:\n",
        "\n",
        "1. Its a additional information\n",
        "2. Python interpreter does not execute this line"
      ],
      "metadata": {
        "id": "anSA4D0QVLTc"
      }
    },
    {
      "cell_type": "markdown",
      "source": [
        "## single line comments:"
      ],
      "metadata": {
        "id": "7ziDm4ZlV8Qu"
      }
    },
    {
      "cell_type": "code",
      "source": [
        "# it is a single line comments\n",
        "var_a = 1  # another single line comments"
      ],
      "metadata": {
        "id": "ffF-CWOAVc6r"
      },
      "execution_count": null,
      "outputs": []
    },
    {
      "cell_type": "markdown",
      "source": [
        "## multi-line comments:"
      ],
      "metadata": {
        "id": "ZS5wmlPgWIMC"
      }
    },
    {
      "cell_type": "code",
      "source": [
        "'''This is a multi line comments'''\n",
        "\n",
        "'''\n",
        "This is a multi line comments 1\n",
        "This is a multi line comments 2\n",
        "'''\n",
        "\n",
        "\"\"\"This is also same\"\"\""
      ],
      "metadata": {
        "id": "42WRiH2ZWKv-"
      },
      "execution_count": null,
      "outputs": []
    },
    {
      "cell_type": "markdown",
      "source": [
        "## Doc-string comments:\n",
        "\n",
        "1. specify some documentational comments or details under functions or classes or python files."
      ],
      "metadata": {
        "id": "jSsRhZZuWoyR"
      }
    },
    {
      "cell_type": "markdown",
      "source": [
        "# Indentation:\n",
        "\n",
        "1. Its a discipline of writing the code in python\n",
        "2. Its avoid to use \";\" at the end of each statement like java."
      ],
      "metadata": {
        "id": "3E8PsZBMXTrP"
      }
    },
    {
      "cell_type": "markdown",
      "source": [
        "# Python Identifiers:\n",
        "\n",
        "1. `Identifiers` are those which represents/identifies variable name, class name or function name.\n",
        "\n",
        "2. Basically it identifies either value or function or class or file.\n",
        "\n",
        "3. There are rules for python identifiers:\n",
        "    1. identifier name can contains alphabets, numeric values and only \"_\" (underscore) as special characters.\n",
        "    2. it should either start with only underscore or alphabets\n",
        "    3. name sholud be meaningful"
      ],
      "metadata": {
        "id": "knxdsKIQ86tg"
      }
    },
    {
      "cell_type": "markdown",
      "source": [
        "## Valid Identifiers\n",
        "```python\n",
        "_abc = 123\n",
        "abc = 123\n",
        "ab_c = 123\n",
        "abc_123 = 123\n",
        "```"
      ],
      "metadata": {
        "id": "5NpCDWl9QrSB"
      }
    },
    {
      "cell_type": "markdown",
      "source": [
        "## Invalid Identifiers\n",
        "```python\n",
        "ab-c = 123  # hypen as special char is not allowed\n",
        "12_abc = 123  # name can't start with numeric\n",
        "```"
      ],
      "metadata": {
        "id": "FBp3i_TLQ23_"
      }
    },
    {
      "cell_type": "markdown",
      "source": [
        "## *(trick)* print is valid identifier"
      ],
      "metadata": {
        "id": "SS91Og-xo11-"
      }
    },
    {
      "cell_type": "code",
      "source": [
        "print = 10\n",
        "print"
      ],
      "metadata": {
        "id": "dQtyKsGnn9t1",
        "outputId": "78d7c73d-016f-46e7-b6f8-022cc7e54b1e",
        "colab": {
          "base_uri": "https://localhost:8080/"
        }
      },
      "execution_count": 2,
      "outputs": [
        {
          "output_type": "execute_result",
          "data": {
            "text/plain": [
              "10"
            ]
          },
          "metadata": {},
          "execution_count": 2
        }
      ]
    },
    {
      "cell_type": "markdown",
      "source": [
        "# Differences between Identifiers and Variables\n",
        "\n",
        "\n",
        "id | Identifiers | Variables\n",
        ":--- | --- | ---\n",
        "1 | `Identifiers` are those which represents/identifies variable name, class name or function name | `variable` indicates certain value\n",
        "2 | `a = 123 or a = myfunc()` | `a = 123`"
      ],
      "metadata": {
        "id": "i2IzUXJiOuhi"
      }
    },
    {
      "cell_type": "markdown",
      "source": [
        "# Namespaces and Scopes:"
      ],
      "metadata": {
        "id": "8dvLDeHScb0O"
      }
    },
    {
      "cell_type": "markdown",
      "source": [
        "1. `Namespace` is a system that has **a unique name for each and every object in Python**. An object might be a variable or a method.\n",
        "\n",
        "2. Different types of Namespaces:\n",
        "    1. Built-In Namespace\n",
        "    2. Global Namespace\n",
        "    3. Local Namespace\n",
        "\n",
        "3. Lifetime of a namespace:\n",
        "    1. A lifetime of a namespace depends upon the scope of objects, if the scope of an object ends, the lifetime of that namespace comes to an end. Hence, it is not possible to access the inner namespace’s objects from an outer namespace."
      ],
      "metadata": {
        "id": "GHohDpnecd8H"
      }
    },
    {
      "cell_type": "markdown",
      "source": [
        "1. `Scopes` refers to the **coding region from which a particular Python object is accessible**. Hence one cannot access any particular object from anywhere from the code, the accessing has to be allowed by the scope of the object.\n",
        "\n",
        "2. Different types of Scopes:\n",
        "    1. global (specify explicitly)\n",
        "    2. local (default)\n",
        "    3. nonlocal (specify explicitly)\n",
        "\n",
        "```python\n",
        "# global\n",
        "def outer_func():\n",
        "    # local\n",
        "    def inner_func():\n",
        "        # local\n",
        "        # nonlocal, neither local to \"inner_func\" nor global, scope is refer to \"outer_func\"\n",
        "```"
      ],
      "metadata": {
        "id": "7wQIT9wyciWk"
      }
    },
    {
      "cell_type": "code",
      "source": [
        "\"\"\"\n",
        "1. var: any variable initialized in outer scope, can be accessed from inner scope\n",
        "2. var1: same varible with different scopes (function and nested function)\n",
        "\"\"\"\n",
        "\n",
        "def parent():\n",
        "    var = 5\n",
        "    var1 = 10\n",
        "    def child():\n",
        "        # \"var\" has scope across entire parent(), will be accessible from child()\n",
        "        print(f\"child: id of var: {id(var)}, value: {var}\")\n",
        "\n",
        "        # here \"var1\" again initialized, and it has different scope now\n",
        "        var1 = 20\n",
        "        print(f\"child: id of var1: {id(var1)}, value: {var1}\")\n",
        "\n",
        "    print(f\"parent: id of var: {id(var)}, value: {var}\")\n",
        "    print(f\"parent: id of var1: {id(var1)}, value: {var1}\")\n",
        "    print()\n",
        "    child()\n",
        "parent()"
      ],
      "metadata": {
        "id": "UNI_Daeqcs9o"
      },
      "execution_count": null,
      "outputs": []
    },
    {
      "cell_type": "markdown",
      "source": [
        "## global and nonlocal"
      ],
      "metadata": {
        "id": "ERLlhBRSczZ-"
      }
    },
    {
      "cell_type": "code",
      "source": [
        "\"\"\"\n",
        "UnboundLocalError:\n",
        "    1. local variable 'var1' referenced before assignment (will solve by global)\n",
        "    2. local variable 'var2' referenced before assignment (will solve by nonlocal)\n",
        "\"\"\"\n",
        "var1 = 1\n",
        "def parent():\n",
        "    try:\n",
        "        var1 = var1 + 1 # to initialize \"var1\", it cannot find the value of \"var1\"\n",
        "        var2 = 10\n",
        "\n",
        "        def child():\n",
        "            var2 = var2 + 5  # to initialize \"var2\", it cannot find the value of \"var2\"\n",
        "            print(f\"child var2: {var2}, {id(var2)}\")\n",
        "        print(f\"parent var2: {var2}, {id(var2)}\")\n",
        "        child()\n",
        "    except Exception as e:\n",
        "        print(f\"error occured: {type(e)}, {e}\")\n",
        "parent()"
      ],
      "metadata": {
        "id": "jch0FsWuc1G9"
      },
      "execution_count": null,
      "outputs": []
    },
    {
      "cell_type": "code",
      "source": [
        "# Use of nonlocal\n",
        "# Use of global\n",
        "\n",
        "var1=1  # global, used global keyward\n",
        "var2=5  # global,\n",
        "\n",
        "def parent():\n",
        "    global var1\n",
        "    var1 = var1 + 1\n",
        "    var2 = 10  # local to parent\n",
        "\n",
        "    def child():\n",
        "        global var1\n",
        "        var1 = var1 + 1\n",
        "        print(f\"child var1: {var1}\")\n",
        "\n",
        "        nonlocal var2  # as var2 is nonlocal to child(), it will refer parent var2, not global var2\n",
        "        var2 = var2 + 5\n",
        "        print(f\"child var2: {var2}, {id(var2)}\\n\")\n",
        "\n",
        "    print(\"before calling child()\")\n",
        "    print(f\"parent var1: {var1}\")\n",
        "    print(f\"parent var2: {var2}, {id(var2)}\\n\")\n",
        "\n",
        "    child()\n",
        "\n",
        "    print(\"after calling child()\")\n",
        "    print(f\"parent var1: {var1}\")\n",
        "    print(f\"parent var2: {var2}, {id(var2)}\\n\")\n",
        "\n",
        "print(\"before calling parent()\")\n",
        "print(f\"parent var1: {var1}\")\n",
        "print(f\"grand parent var2: {var2}, {id(var2)}\\n\")\n",
        "\n",
        "parent()\n",
        "\n",
        "print(\"after calling parent()\")\n",
        "print(f\"parent var1: {var1}\")\n",
        "print(f\"grand parent var2: {var2}, {id(var2)}\")"
      ],
      "metadata": {
        "id": "otuLF2zydXMz"
      },
      "execution_count": null,
      "outputs": []
    },
    {
      "cell_type": "markdown",
      "source": [
        "# Statements:\n",
        "\n",
        "1. lines of code. Can be multiple lines of code.\n",
        "2. Its executed and evaluated some result"
      ],
      "metadata": {
        "id": "Z9dvN9_RdMFi"
      }
    },
    {
      "cell_type": "markdown",
      "source": [
        "## Assigment Statements:"
      ],
      "metadata": {
        "id": "Y6EAMInWdPeJ"
      }
    },
    {
      "cell_type": "code",
      "source": [
        "a = 123\n",
        "name = \"indra\""
      ],
      "metadata": {
        "id": "YeELRIv9dOnZ"
      },
      "execution_count": null,
      "outputs": []
    },
    {
      "cell_type": "markdown",
      "source": [
        "## Expression Statements:"
      ],
      "metadata": {
        "id": "NVFgj_crdS2f"
      }
    },
    {
      "cell_type": "code",
      "source": [
        "x = 1\n",
        "add = x + 1  # expression, where operations happend and store the result into variable\n",
        "print(add)"
      ],
      "metadata": {
        "id": "5zGFd9iwdbAl"
      },
      "execution_count": null,
      "outputs": []
    },
    {
      "cell_type": "markdown",
      "source": [
        "## Conditional Statements:"
      ],
      "metadata": {
        "id": "vwz0ynGey236"
      }
    },
    {
      "cell_type": "markdown",
      "source": [
        "### if-else:"
      ],
      "metadata": {
        "id": "usbJInRHaNpM"
      }
    },
    {
      "cell_type": "code",
      "source": [
        "var1 = \"abc\"\n",
        "\n",
        "if type(var1) == str:\n",
        "    print(\"its string variable\")\n",
        "else:\n",
        "    print(\"its not string variable\")"
      ],
      "metadata": {
        "colab": {
          "base_uri": "https://localhost:8080/"
        },
        "id": "2rsKpFuUaPv3",
        "outputId": "819bd8da-26f5-4df9-f023-48aed030e8b6"
      },
      "execution_count": null,
      "outputs": [
        {
          "output_type": "stream",
          "name": "stdout",
          "text": [
            "its string variable\n"
          ]
        }
      ]
    },
    {
      "cell_type": "markdown",
      "source": [
        "### if-elif-else:\n",
        "\n",
        "1. Its a if-else ladder"
      ],
      "metadata": {
        "id": "Q0Zj9RXd19yT"
      }
    },
    {
      "cell_type": "code",
      "source": [
        "str1 = \"hello World!!\"\n",
        "\n",
        "if \"Hello\" in str1:\n",
        "    print(\"Hello is present\")\n",
        "elif \"hello\" in str1:\n",
        "    print(\"hello is present\")\n",
        "else:\n",
        "    print(\"Hello or hello is not present\")"
      ],
      "metadata": {
        "colab": {
          "base_uri": "https://localhost:8080/"
        },
        "id": "RuGk3wVnYmuy",
        "outputId": "0f2570b5-918c-425c-dac7-676cec82f0d2"
      },
      "execution_count": null,
      "outputs": [
        {
          "output_type": "stream",
          "name": "stdout",
          "text": [
            "hello is present\n"
          ]
        }
      ]
    },
    {
      "cell_type": "markdown",
      "source": [
        "### nested if-else block:"
      ],
      "metadata": {
        "id": "ARWq076XahtE"
      }
    },
    {
      "cell_type": "code",
      "source": [],
      "metadata": {
        "id": "S5TXDcoNkwCd"
      },
      "execution_count": null,
      "outputs": []
    },
    {
      "cell_type": "markdown",
      "source": [
        "## Loop Statements:"
      ],
      "metadata": {
        "id": "sFgxAbcP11JH"
      }
    },
    {
      "cell_type": "markdown",
      "source": [
        "### for loop"
      ],
      "metadata": {
        "id": "9js1LkB14ASy"
      }
    },
    {
      "cell_type": "code",
      "source": [
        "for i in range(1, 10, 2):\n",
        "    print(i)"
      ],
      "metadata": {
        "colab": {
          "base_uri": "https://localhost:8080/"
        },
        "id": "Z0qncfT4bBwQ",
        "outputId": "6fb3ddcb-21b2-4e08-c9ac-470ab73717bf"
      },
      "execution_count": null,
      "outputs": [
        {
          "output_type": "stream",
          "name": "stdout",
          "text": [
            "1\n",
            "3\n",
            "5\n",
            "7\n",
            "9\n"
          ]
        }
      ]
    },
    {
      "cell_type": "code",
      "source": [
        "word = \"abcdefg\"\n",
        "for i in word:\n",
        "    print(i)"
      ],
      "metadata": {
        "colab": {
          "base_uri": "https://localhost:8080/"
        },
        "id": "Yy3KNmhzbPF3",
        "outputId": "0297668a-2716-4af4-dc81-86e49ba225f0"
      },
      "execution_count": null,
      "outputs": [
        {
          "output_type": "stream",
          "name": "stdout",
          "text": [
            "a\n",
            "b\n",
            "c\n",
            "d\n",
            "e\n",
            "f\n",
            "g\n"
          ]
        }
      ]
    },
    {
      "cell_type": "markdown",
      "source": [
        "### while loop"
      ],
      "metadata": {
        "id": "s6Nyqw1N4Cgc"
      }
    },
    {
      "cell_type": "code",
      "source": [
        "word = \"abcdefg\"\n",
        "index = 0\n",
        "\n",
        "while index < len(word):\n",
        "    print(word[index])\n",
        "    index += 1"
      ],
      "metadata": {
        "colab": {
          "base_uri": "https://localhost:8080/"
        },
        "id": "1S7lUB13kNlL",
        "outputId": "1d460003-0890-4668-9d40-4585b0324e63"
      },
      "execution_count": null,
      "outputs": [
        {
          "output_type": "stream",
          "name": "stdout",
          "text": [
            "a\n",
            "b\n",
            "c\n",
            "d\n",
            "e\n",
            "f\n",
            "g\n"
          ]
        }
      ]
    },
    {
      "cell_type": "markdown",
      "source": [
        "## function call statement:"
      ],
      "metadata": {
        "id": "H81ZvoVjk4JV"
      }
    },
    {
      "cell_type": "code",
      "source": [
        "l = len(\"1234\")  # len() is a function and called\n",
        "print(\"Hello Pal!!\")  # print() is a function and called"
      ],
      "metadata": {
        "id": "o5HKNOrklCks"
      },
      "execution_count": null,
      "outputs": []
    },
    {
      "cell_type": "markdown",
      "source": [
        "## break statement:"
      ],
      "metadata": {
        "id": "r9CeUdFylSvZ"
      }
    },
    {
      "cell_type": "code",
      "source": [
        "for i in range(1,5):\n",
        "    if i == 3:\n",
        "        break\n",
        "    print(i)"
      ],
      "metadata": {
        "colab": {
          "base_uri": "https://localhost:8080/"
        },
        "id": "b31pV-MtpPtX",
        "outputId": "63bfe05a-8b4d-42bb-8ca5-21a140e2d5d3"
      },
      "execution_count": null,
      "outputs": [
        {
          "output_type": "stream",
          "name": "stdout",
          "text": [
            "1\n",
            "2\n"
          ]
        }
      ]
    },
    {
      "cell_type": "markdown",
      "source": [
        "## continue statement:"
      ],
      "metadata": {
        "id": "0rrug3HdlU4d"
      }
    },
    {
      "cell_type": "code",
      "source": [
        "for i in range(1,5):\n",
        "    if i == 3:\n",
        "        continue\n",
        "    print(i)"
      ],
      "metadata": {
        "colab": {
          "base_uri": "https://localhost:8080/"
        },
        "id": "_jYi2B8epAYu",
        "outputId": "849d9f37-ee3f-403f-9285-8eef15064222"
      },
      "execution_count": null,
      "outputs": [
        {
          "output_type": "stream",
          "name": "stdout",
          "text": [
            "1\n",
            "2\n",
            "4\n"
          ]
        }
      ]
    },
    {
      "cell_type": "markdown",
      "source": [
        "## return statement:"
      ],
      "metadata": {
        "id": "9NfmBD81lgBa"
      }
    },
    {
      "cell_type": "code",
      "source": [
        "def myfunc(a,b):\n",
        "    return a+b\n",
        "\n",
        "c = myfunc(1,2)\n",
        "print(c)"
      ],
      "metadata": {
        "colab": {
          "base_uri": "https://localhost:8080/"
        },
        "id": "v3QGO86zoz5i",
        "outputId": "6e33c2b3-6eab-41f9-e4b0-3cb83a065125"
      },
      "execution_count": null,
      "outputs": [
        {
          "output_type": "stream",
          "name": "stdout",
          "text": [
            "3\n"
          ]
        }
      ]
    },
    {
      "cell_type": "markdown",
      "source": [
        "## pass statement:"
      ],
      "metadata": {
        "id": "kfCfNq-olifT"
      }
    },
    {
      "cell_type": "code",
      "source": [],
      "metadata": {
        "id": "fPazUMhMoxwW"
      },
      "execution_count": null,
      "outputs": []
    },
    {
      "cell_type": "markdown",
      "source": [
        "## import statement:"
      ],
      "metadata": {
        "id": "_bNqKxlblooC"
      }
    },
    {
      "cell_type": "code",
      "source": [
        "import pandas as pd\n",
        "\n",
        "import os\n",
        "import sys\n",
        "\n",
        "from datetime import (datetime, timedelta)"
      ],
      "metadata": {
        "id": "pOS7bdIkoGHJ"
      },
      "execution_count": null,
      "outputs": []
    },
    {
      "cell_type": "markdown",
      "source": [
        "## del statement:"
      ],
      "metadata": {
        "id": "wbiZ1HNolrCp"
      }
    },
    {
      "cell_type": "code",
      "source": [
        "l1 = [1,2]\n",
        "\n",
        "del l1"
      ],
      "metadata": {
        "id": "iihz2jPtoATm"
      },
      "execution_count": null,
      "outputs": []
    },
    {
      "cell_type": "markdown",
      "source": [
        "# Variable:\n",
        "\n",
        "1. `variable` indicates certain value."
      ],
      "metadata": {
        "id": "b7FlP9qn7ReI"
      }
    },
    {
      "cell_type": "markdown",
      "source": [
        "## (*tricks*) Integer variable, its not refer same ofject"
      ],
      "metadata": {
        "id": "Jlu4ERFjP3s9"
      }
    },
    {
      "cell_type": "code",
      "source": [
        "# both a and b are pointing to same value\n",
        "# both a and b has same memory location\n",
        "a = 256\n",
        "b = 256\n",
        "print(f\"a: {id(a)}\")\n",
        "print(f\"b: {id(b)}\")\n",
        "\n",
        "# in backend, `cpython` compile the python code to bytecode for machine readable and its store `-5 to 256` integer values in array of object, and refer the same object.\n",
        "# in 257, c, d are not refering same object\n",
        "c = 257\n",
        "d = 257\n",
        "print(f\"c: {id(c)}\")\n",
        "print(f\"d: {id(d)}\")"
      ],
      "metadata": {
        "id": "Cxor_m67P6zd"
      },
      "execution_count": null,
      "outputs": []
    },
    {
      "cell_type": "markdown",
      "source": [
        "## Refer integer variable, multiple times"
      ],
      "metadata": {
        "id": "olfFCQqfQETA"
      }
    },
    {
      "cell_type": "code",
      "source": [
        "i = 257\n",
        "\n",
        "e = i\n",
        "f = i\n",
        "g = h = i\n",
        "\n",
        "print(f\"e: {e}, {id(e)}\")\n",
        "print(f\"f: {f}, {id(f)}\")\n",
        "print(f\"g: {g}, {id(g)}\")\n",
        "print(f\"h: {h}, {id(h)}\")\n",
        "print(f\"i: {i}, {id(i)}\")"
      ],
      "metadata": {
        "id": "JwjWkvqOQD3R"
      },
      "execution_count": null,
      "outputs": []
    },
    {
      "cell_type": "markdown",
      "source": [
        "## str():"
      ],
      "metadata": {
        "id": "I_lKekEJFDoc"
      }
    },
    {
      "cell_type": "code",
      "source": [
        "# bytes to string conversion\n",
        "# different types to use print function with formatted string\n",
        "\n",
        "b = b\"hello world\"\n",
        "print(f\"bytes value: {b}, type: {type(b)}\")\n",
        "\n",
        "# if you are not passing \"encoding\" parameter in str(), it will keep b\"<string>\" instead of <string>\n",
        "s = str(b)\n",
        "print(f\"bytes string value: {s}, type: {type(s)}\")\n",
        "\n",
        "s1 = str(b, \"UTF-8\")\n",
        "print(f\"string value: {s1}, type: {type(s1)}\")"
      ],
      "metadata": {
        "colab": {
          "base_uri": "https://localhost:8080/"
        },
        "id": "TX4vCpjOFEjX",
        "outputId": "095cf380-39b1-4ac5-f43d-2600484b49d5"
      },
      "execution_count": null,
      "outputs": [
        {
          "output_type": "stream",
          "name": "stdout",
          "text": [
            "bytes value: b'hello world', type: <class 'bytes'>\n",
            "bytes string value: b'hello world', type: <class 'str'>\n",
            "string value: hello world, type: <class 'str'>\n"
          ]
        }
      ]
    },
    {
      "cell_type": "markdown",
      "source": [
        "# Python Collections"
      ],
      "metadata": {
        "id": "UHHbcWz4eVFo"
      }
    },
    {
      "cell_type": "markdown",
      "source": [
        "## List vs Tupple vs Set vs Dict\n",
        "\n",
        "| list | tupple | set | dict |\n",
        "| --- | --- | --- | --- |\n",
        "| list() or \"[]\" | tupple() or \"()\" | set() | dict() or \"{}\" |\n",
        "| [1, {1,4,7}, 'b', (1,2), 2.0, True, {\"key\": \"val\"}] | (1, \"a\", {1, 2}, [1, 2], (1,2)) | {1, 2, \"a\", (1, 2)} | {1: \"value1\", \"key2\": [1,2], (1,2): (2,3)} |\n",
        "| not immutable | **yes, immutable (hashable)**, can't change the element | not immutable | not immutable |\n",
        "| list element can be heterogenious | tupple element can be heterogenious | set element is heterogenious and should be **hashable(int, str, tupple)** | `keys should be hashable(int, str, tupple)`, values can be heterogenious |\n",
        "| ordered collection | ordered collection | **unordered collection** | ordered collection (Python 3.7 and above) |\n",
        "| support duplicate elements | support duplicate elements | **has no duplicate elements** | `has no duplicate keys` |"
      ],
      "metadata": {
        "id": "l0ljnheceWg7"
      }
    },
    {
      "cell_type": "markdown",
      "source": [
        "## Collection - list():"
      ],
      "metadata": {
        "id": "2C7kjbu7Fngs"
      }
    },
    {
      "cell_type": "code",
      "source": [
        "ls1 = list()\n",
        "ls2 = []\n",
        "\n",
        "print(f\"ls1: {ls1}, {type(ls1)}\")\n",
        "print(f\"ls2: {ls2}, {type(ls2)}\")\n",
        "\n",
        "if ls1 is ls2:\n",
        "    print(\"both are same\")\n",
        "else:\n",
        "    print(\"both are not same\")"
      ],
      "metadata": {
        "colab": {
          "base_uri": "https://localhost:8080/"
        },
        "id": "qMLisX8aFobX",
        "outputId": "6d2bb7a6-8be3-438a-8618-15a670889669"
      },
      "execution_count": null,
      "outputs": [
        {
          "output_type": "stream",
          "name": "stdout",
          "text": [
            "ls1: [], <class 'list'>\n",
            "ls2: [], <class 'list'>\n",
            "both are not same\n"
          ]
        }
      ]
    },
    {
      "cell_type": "markdown",
      "source": [
        "### list: add items"
      ],
      "metadata": {
        "id": "9bp1VyMaKpqv"
      }
    },
    {
      "cell_type": "markdown",
      "source": [
        "insert()\n",
        "\n",
        "```python\n",
        "insert(<index>, <value>)\n",
        "```"
      ],
      "metadata": {
        "id": "oWgGs0hWKvnE"
      }
    },
    {
      "cell_type": "code",
      "source": [
        "ls8 = [1,3]\n",
        "ls8.insert(1, \"2\")\n",
        "print(ls8)"
      ],
      "metadata": {
        "id": "PsxE3V5IKyvA"
      },
      "execution_count": null,
      "outputs": []
    },
    {
      "cell_type": "markdown",
      "source": [
        "append() and extend()-\n",
        "\n",
        "1. append takes individual items and insert directly\n",
        "2. extend takes iterable items and insert single element from that iterable items"
      ],
      "metadata": {
        "id": "afTuIzZ2KzlD"
      }
    },
    {
      "cell_type": "code",
      "source": [
        "ls5 = [1,2]\n",
        "ls6 = [2,3]\n",
        "\n",
        "print(f\"original list: {ls5}\")\n",
        "ls5.extend(ls6)\n",
        "print(f\"original list after extend: {ls5}\")\n",
        "\n",
        "ls5 = [1,2]\n",
        "ls6 = [2,3]\n",
        "print(f\"original list: {ls5}\")\n",
        "ls5.append(ls6)\n",
        "print(f\"original list after append: {ls5}\")"
      ],
      "metadata": {
        "id": "f5pSWZg7K8Aa"
      },
      "execution_count": null,
      "outputs": []
    },
    {
      "cell_type": "markdown",
      "source": [
        "### list: sorting"
      ],
      "metadata": {
        "id": "S5Jlc_TrFyPD"
      }
    },
    {
      "cell_type": "code",
      "source": [
        "ls3 = [1, 2,5, 3, 4]\n",
        "\n",
        "print(f\"original list before sorting: {ls3}\")\n",
        "ls3.sort()\n",
        "print(f\"original list after sorting: {ls3}\")"
      ],
      "metadata": {
        "id": "1wT-TBcgF7uv"
      },
      "execution_count": null,
      "outputs": []
    },
    {
      "cell_type": "markdown",
      "source": [
        "### list: remove element"
      ],
      "metadata": {
        "id": "fkT4lOdCF_vH"
      }
    },
    {
      "cell_type": "markdown",
      "source": [
        "1. **remove()** takes actual value as parameter which will be removed.\n",
        "2. **pop(index=-1)**, always delete from last element, but can delete from specified index"
      ],
      "metadata": {
        "id": "p3TLl9jtGE4Y"
      }
    },
    {
      "cell_type": "code",
      "source": [
        "ls7 = [1,\"pal\", 2,3,4, \"indra\"]\n",
        "print(f\"ls7: {ls7}\")\n",
        "\n",
        "# removing \"indra\"\n",
        "out = ls7.remove(\"indra\")\n",
        "print(f\"after removing 'indra', ls7: {ls7}, out: {out}\")\n",
        "\n",
        "# remove from last element\n",
        "out = ls7.pop()\n",
        "print(f\"after remove from last element, ls7: {ls7}, out: {out}\")\n",
        "\n",
        "# remove 2nd element, \"pal\"\n",
        "out = ls7.pop(1)  # <del ls7[1]> also doing same\n",
        "print(f\"after remove from 2nd element, ls7: {ls7}, out: {out}\")"
      ],
      "metadata": {
        "id": "uLe5OMNaGAz_"
      },
      "execution_count": null,
      "outputs": []
    },
    {
      "cell_type": "markdown",
      "source": [
        "### list: extras"
      ],
      "metadata": {
        "id": "_egfDQ_xLaie"
      }
    },
    {
      "cell_type": "code",
      "source": [
        "# list is heterogenious\n",
        "\n",
        "lst_3 = [1, {1,4,7}, 'b', (1,2), 2.0, True, {\"key\": \"val\"}]\n",
        "print(f\"{lst_3=}\")"
      ],
      "metadata": {
        "id": "On07HMoNju8P"
      },
      "execution_count": null,
      "outputs": []
    },
    {
      "cell_type": "code",
      "source": [
        "# remove duplicates from list\n",
        "\n",
        "ls4 = [1, 2,5, 3,5, 4, 2]\n",
        "\n",
        "print(f\"original list: {ls4}\")\n",
        "set1 = set(ls4)\n",
        "ls4 = list(set1)\n",
        "print(f\"original list after remove duplicates: {ls4}\")"
      ],
      "metadata": {
        "id": "E0f4sj_vLd9Z"
      },
      "execution_count": null,
      "outputs": []
    },
    {
      "cell_type": "markdown",
      "source": [
        "## Collection - tupple():"
      ],
      "metadata": {
        "id": "JKQpEbGkLImQ"
      }
    },
    {
      "cell_type": "code",
      "source": [
        "# tupple is heterogenious\n",
        "\n",
        "tupple_1 = (1, \"a\", {1, 2}, [1, 2], (1,2))\n",
        "print(f\"{tupple_1=}\")"
      ],
      "metadata": {
        "id": "xIVNdd28kCxH"
      },
      "execution_count": null,
      "outputs": []
    },
    {
      "cell_type": "code",
      "source": [
        "# how to access tupple elements\n",
        "\n",
        "t1 = (1,2,3)\n",
        "for i in t1:\n",
        "    print(i)"
      ],
      "metadata": {
        "id": "uW6eVroMLM4A"
      },
      "execution_count": null,
      "outputs": []
    },
    {
      "cell_type": "markdown",
      "source": [
        "# Operators"
      ],
      "metadata": {
        "id": "-Vk4aXMSyim-"
      }
    },
    {
      "cell_type": "markdown",
      "source": [
        "## Compared with \"is\" and \"==\"\n",
        "“is keyword” is used to test whether two variables belong to the same object."
      ],
      "metadata": {
        "id": "5ZGy5fQyderg"
      }
    },
    {
      "cell_type": "code",
      "source": [
        "a=-6\n",
        "b=-6\n",
        "\n",
        "if a is b:\n",
        "    print(f\"same object\")\n",
        "else:\n",
        "    print(f\"not same object\")\n",
        "\n",
        "if a == b:\n",
        "    print(f\"same value\")\n",
        "else:\n",
        "    print(f\"not same value\")"
      ],
      "metadata": {
        "id": "dWIsybcbdky2"
      },
      "execution_count": null,
      "outputs": []
    },
    {
      "cell_type": "markdown",
      "source": [
        "# functions:"
      ],
      "metadata": {
        "id": "ccNbVB6q6kJS"
      }
    },
    {
      "cell_type": "code",
      "source": [],
      "metadata": {
        "id": "i70e7qX9b61T"
      },
      "execution_count": null,
      "outputs": []
    },
    {
      "cell_type": "markdown",
      "source": [
        "## Decorator:"
      ],
      "metadata": {
        "id": "w-fexsOXcB--"
      }
    },
    {
      "cell_type": "markdown",
      "source": [
        "## Monkey Patching:"
      ],
      "metadata": {
        "id": "13ba1vQhcEtZ"
      }
    },
    {
      "cell_type": "markdown",
      "source": [
        "# class and object"
      ],
      "metadata": {
        "id": "8fyTXKIs6mLO"
      }
    },
    {
      "cell_type": "markdown",
      "source": [
        "# exception handling"
      ],
      "metadata": {
        "id": "JJTScb_D6pEX"
      }
    },
    {
      "cell_type": "markdown",
      "source": [
        "## try-except-finally"
      ],
      "metadata": {
        "id": "naHUfDp3LlHA"
      }
    },
    {
      "cell_type": "code",
      "source": [
        "a = 10\n",
        "try:\n",
        "    b = a/0\n",
        "    print(f\"b: {b}\")\n",
        "except Exception as e:\n",
        "    print(f\"error occured: {e}\")\n",
        "finally:\n",
        "    print(f\"finally block\")"
      ],
      "metadata": {
        "id": "UbvmxiN7LkFp"
      },
      "execution_count": null,
      "outputs": []
    },
    {
      "cell_type": "markdown",
      "source": [
        "## try-except-else-finally"
      ],
      "metadata": {
        "id": "YRyme-kFLnYb"
      }
    },
    {
      "cell_type": "code",
      "source": [
        "a = 10\n",
        "try:\n",
        "    b = a/2\n",
        "    print(f\"b: {b}\")\n",
        "except Exception as e:\n",
        "    print(f\"error occured: {e}\")\n",
        "else:\n",
        "    print(f\"no exception is there\")\n",
        "finally:\n",
        "    print(f\"finally block\")"
      ],
      "metadata": {
        "id": "mxWKRK8XLn11"
      },
      "execution_count": null,
      "outputs": []
    },
    {
      "cell_type": "markdown",
      "source": [
        "# data types and data structures"
      ],
      "metadata": {
        "id": "D_abkNLG6sSF"
      }
    },
    {
      "cell_type": "markdown",
      "source": [
        "# Doubts and QnA:"
      ],
      "metadata": {
        "id": "HdAW5JFdAR7G"
      }
    }
  ]
}