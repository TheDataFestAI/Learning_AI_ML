{
  "nbformat": 4,
  "nbformat_minor": 0,
  "metadata": {
    "colab": {
      "provenance": [],
      "toc_visible": true,
      "authorship_tag": "ABX9TyNleabfnejxgyuiBluH2dgl",
      "include_colab_link": true
    },
    "kernelspec": {
      "name": "python3",
      "display_name": "Python 3"
    },
    "language_info": {
      "name": "python"
    }
  },
  "cells": [
    {
      "cell_type": "markdown",
      "metadata": {
        "id": "view-in-github",
        "colab_type": "text"
      },
      "source": [
        "<a href=\"https://colab.research.google.com/github/TheDataFestAI/Learning_Resources/blob/main/learning_poc/download_data_from_kaggle.ipynb\" target=\"_parent\"><img src=\"https://colab.research.google.com/assets/colab-badge.svg\" alt=\"Open In Colab\"/></a>"
      ]
    },
    {
      "cell_type": "markdown",
      "source": [
        "# Download Data From Kaggle\n",
        "\n",
        "Reference:\n",
        "1. Download data from kaggle into colab:\n",
        "    1. https://www.kaggle.com/discussions/general/74235\n",
        "\n",
        "2. Kaggle Api:\n",
        "    1. https://github.com/Kaggle/kaggle-api\n"
      ],
      "metadata": {
        "id": "Q9uKTLnIuwP2"
      }
    },
    {
      "cell_type": "markdown",
      "source": [
        "## Step 1: Generate New Api Access Token from Your Kaggle Personal Account"
      ],
      "metadata": {
        "id": "lZeD9VpUwlDa"
      }
    },
    {
      "cell_type": "markdown",
      "source": [
        "1. Sign in to https://kaggle.com/, then click on your profile picture on the top right and select \"My Account\" from the menu.\n",
        "\n",
        "2. Scroll down to the \"API\" section and click \"Create New API Token\". This will download a file kaggle.json with the following contents:\n",
        "\n",
        "    ```json\n",
        "    {\"username\":\"YOUR_KAGGLE_USERNAME\",\"key\":\"YOUR_KAGGLE_KEY\"}\n",
        "    ```"
      ],
      "metadata": {
        "id": "q1c9oQOsVaEi"
      }
    },
    {
      "cell_type": "markdown",
      "source": [
        "## Step 2: Install the `Python Packages`"
      ],
      "metadata": {
        "id": "ma4MhT50u3na"
      }
    },
    {
      "cell_type": "code",
      "execution_count": null,
      "metadata": {
        "id": "y8tTQ1UGuemI"
      },
      "outputs": [],
      "source": [
        "! pip install -q kaggle"
      ]
    },
    {
      "cell_type": "markdown",
      "source": [
        "## step 3: Upload the `kaggle.json` file into colab local directory"
      ],
      "metadata": {
        "id": "czX6zE5_5ZAb"
      }
    },
    {
      "cell_type": "code",
      "source": [
        "\"\"\"\n",
        "https://github.com/googlecolab/colabtools/blob/main/google/colab/files.py\n",
        "\"\"\"\n",
        "from google.colab import files\n",
        "\n",
        "kaggle_filename = \"kaggle.json\"\n",
        "\n",
        "# used \"_upload_file()\" to specify the filename after upload into the colab\n",
        "# used \"out\" variable to store the return value from \"_upload_file()\" for not to display the file content\n",
        "out = files._upload_file(filepath=kaggle_filename)"
      ],
      "metadata": {
        "colab": {
          "base_uri": "https://localhost:8080/",
          "height": 55
        },
        "id": "Gu6dWEzDwHE7",
        "outputId": "12368233-18cc-4855-810c-1e789c4fb55d"
      },
      "execution_count": null,
      "outputs": [
        {
          "output_type": "display_data",
          "data": {
            "text/plain": [
              "<IPython.core.display.HTML object>"
            ],
            "text/html": [
              "\n",
              "     <input type=\"file\" id=\"files-c7c25aa7-6e5b-4fa2-95ba-fbb17219b2a7\" name=\"files[]\"  disabled\n",
              "        style=\"border:none\" />\n",
              "     <output id=\"result-c7c25aa7-6e5b-4fa2-95ba-fbb17219b2a7\">\n",
              "      Upload widget is only available when the cell has been executed in the\n",
              "      current browser session. Please rerun this cell to enable.\n",
              "      </output>\n",
              "      <script>// Copyright 2017 Google LLC\n",
              "//\n",
              "// Licensed under the Apache License, Version 2.0 (the \"License\");\n",
              "// you may not use this file except in compliance with the License.\n",
              "// You may obtain a copy of the License at\n",
              "//\n",
              "//      http://www.apache.org/licenses/LICENSE-2.0\n",
              "//\n",
              "// Unless required by applicable law or agreed to in writing, software\n",
              "// distributed under the License is distributed on an \"AS IS\" BASIS,\n",
              "// WITHOUT WARRANTIES OR CONDITIONS OF ANY KIND, either express or implied.\n",
              "// See the License for the specific language governing permissions and\n",
              "// limitations under the License.\n",
              "\n",
              "/**\n",
              " * @fileoverview Helpers for google.colab Python module.\n",
              " */\n",
              "(function(scope) {\n",
              "function span(text, styleAttributes = {}) {\n",
              "  const element = document.createElement('span');\n",
              "  element.textContent = text;\n",
              "  for (const key of Object.keys(styleAttributes)) {\n",
              "    element.style[key] = styleAttributes[key];\n",
              "  }\n",
              "  return element;\n",
              "}\n",
              "\n",
              "// Max number of bytes which will be uploaded at a time.\n",
              "const MAX_PAYLOAD_SIZE = 100 * 1024;\n",
              "\n",
              "function _uploadFiles(inputId, outputId) {\n",
              "  const steps = uploadFilesStep(inputId, outputId);\n",
              "  const outputElement = document.getElementById(outputId);\n",
              "  // Cache steps on the outputElement to make it available for the next call\n",
              "  // to uploadFilesContinue from Python.\n",
              "  outputElement.steps = steps;\n",
              "\n",
              "  return _uploadFilesContinue(outputId);\n",
              "}\n",
              "\n",
              "// This is roughly an async generator (not supported in the browser yet),\n",
              "// where there are multiple asynchronous steps and the Python side is going\n",
              "// to poll for completion of each step.\n",
              "// This uses a Promise to block the python side on completion of each step,\n",
              "// then passes the result of the previous step as the input to the next step.\n",
              "function _uploadFilesContinue(outputId) {\n",
              "  const outputElement = document.getElementById(outputId);\n",
              "  const steps = outputElement.steps;\n",
              "\n",
              "  const next = steps.next(outputElement.lastPromiseValue);\n",
              "  return Promise.resolve(next.value.promise).then((value) => {\n",
              "    // Cache the last promise value to make it available to the next\n",
              "    // step of the generator.\n",
              "    outputElement.lastPromiseValue = value;\n",
              "    return next.value.response;\n",
              "  });\n",
              "}\n",
              "\n",
              "/**\n",
              " * Generator function which is called between each async step of the upload\n",
              " * process.\n",
              " * @param {string} inputId Element ID of the input file picker element.\n",
              " * @param {string} outputId Element ID of the output display.\n",
              " * @return {!Iterable<!Object>} Iterable of next steps.\n",
              " */\n",
              "function* uploadFilesStep(inputId, outputId) {\n",
              "  const inputElement = document.getElementById(inputId);\n",
              "  inputElement.disabled = false;\n",
              "\n",
              "  const outputElement = document.getElementById(outputId);\n",
              "  outputElement.innerHTML = '';\n",
              "\n",
              "  const pickedPromise = new Promise((resolve) => {\n",
              "    inputElement.addEventListener('change', (e) => {\n",
              "      resolve(e.target.files);\n",
              "    });\n",
              "  });\n",
              "\n",
              "  const cancel = document.createElement('button');\n",
              "  inputElement.parentElement.appendChild(cancel);\n",
              "  cancel.textContent = 'Cancel upload';\n",
              "  const cancelPromise = new Promise((resolve) => {\n",
              "    cancel.onclick = () => {\n",
              "      resolve(null);\n",
              "    };\n",
              "  });\n",
              "\n",
              "  // Wait for the user to pick the files.\n",
              "  const files = yield {\n",
              "    promise: Promise.race([pickedPromise, cancelPromise]),\n",
              "    response: {\n",
              "      action: 'starting',\n",
              "    }\n",
              "  };\n",
              "\n",
              "  cancel.remove();\n",
              "\n",
              "  // Disable the input element since further picks are not allowed.\n",
              "  inputElement.disabled = true;\n",
              "\n",
              "  if (!files) {\n",
              "    return {\n",
              "      response: {\n",
              "        action: 'complete',\n",
              "      }\n",
              "    };\n",
              "  }\n",
              "\n",
              "  for (const file of files) {\n",
              "    const li = document.createElement('li');\n",
              "    li.append(span(file.name, {fontWeight: 'bold'}));\n",
              "    li.append(span(\n",
              "        `(${file.type || 'n/a'}) - ${file.size} bytes, ` +\n",
              "        `last modified: ${\n",
              "            file.lastModifiedDate ? file.lastModifiedDate.toLocaleDateString() :\n",
              "                                    'n/a'} - `));\n",
              "    const percent = span('0% done');\n",
              "    li.appendChild(percent);\n",
              "\n",
              "    outputElement.appendChild(li);\n",
              "\n",
              "    const fileDataPromise = new Promise((resolve) => {\n",
              "      const reader = new FileReader();\n",
              "      reader.onload = (e) => {\n",
              "        resolve(e.target.result);\n",
              "      };\n",
              "      reader.readAsArrayBuffer(file);\n",
              "    });\n",
              "    // Wait for the data to be ready.\n",
              "    let fileData = yield {\n",
              "      promise: fileDataPromise,\n",
              "      response: {\n",
              "        action: 'continue',\n",
              "      }\n",
              "    };\n",
              "\n",
              "    // Use a chunked sending to avoid message size limits. See b/62115660.\n",
              "    let position = 0;\n",
              "    do {\n",
              "      const length = Math.min(fileData.byteLength - position, MAX_PAYLOAD_SIZE);\n",
              "      const chunk = new Uint8Array(fileData, position, length);\n",
              "      position += length;\n",
              "\n",
              "      const base64 = btoa(String.fromCharCode.apply(null, chunk));\n",
              "      yield {\n",
              "        response: {\n",
              "          action: 'append',\n",
              "          file: file.name,\n",
              "          data: base64,\n",
              "        },\n",
              "      };\n",
              "\n",
              "      let percentDone = fileData.byteLength === 0 ?\n",
              "          100 :\n",
              "          Math.round((position / fileData.byteLength) * 100);\n",
              "      percent.textContent = `${percentDone}% done`;\n",
              "\n",
              "    } while (position < fileData.byteLength);\n",
              "  }\n",
              "\n",
              "  // All done.\n",
              "  yield {\n",
              "    response: {\n",
              "      action: 'complete',\n",
              "    }\n",
              "  };\n",
              "}\n",
              "\n",
              "scope.google = scope.google || {};\n",
              "scope.google.colab = scope.google.colab || {};\n",
              "scope.google.colab._files = {\n",
              "  _uploadFiles,\n",
              "  _uploadFilesContinue,\n",
              "};\n",
              "})(self);\n",
              "</script> "
            ]
          },
          "metadata": {}
        }
      ]
    },
    {
      "cell_type": "markdown",
      "source": [
        "## Step 4: Create `~/.kaggle/` dir and move `kaggle.json` there"
      ],
      "metadata": {
        "id": "xaZD67DQA5xU"
      }
    },
    {
      "cell_type": "code",
      "source": [
        "\"\"\"\n",
        "! mkdir ~/.kaggle\n",
        "! cp kaggle.json ~/.kaggle/\n",
        "\n",
        "Replicated the above unix commands with python 'os' module\n",
        "\"\"\"\n",
        "import os\n",
        "from pathlib import Path\n",
        "\n",
        "\n",
        "home_dir = os.path.expanduser('~')\n",
        "kaggle_key_dir = os.path.join(home_dir, \".kaggle\")\n",
        "source_kaggle_json = os.path.abspath(os.path.join(os.getcwd(), kaggle_filename))\n",
        "dest_kaggle_json = os.path.join(kaggle_key_dir, kaggle_filename)\n",
        "\n",
        "# # create the `~/.kaggle/` directory\n",
        "# used \"os.path.expanduser('~')\" to get home directory path\n",
        "# if \".kaggle\" in os.listdir(path=home_dir):\n",
        "# didn't use the above if condition as listdir() may consume more processing if list of dirs are more\n",
        "if os.path.exists(kaggle_key_dir):\n",
        "    print(f\"`{kaggle_key_dir}` dir is already present\")\n",
        "else:\n",
        "    os.makedirs(name=kaggle_key_dir, exist_ok=True)\n",
        "    print(f\"`{kaggle_key_dir}` dir has been created\")\n",
        "\n",
        "# # move `kaggle.json` into `~/.kaggle/` directory\n",
        "if os.path.isfile(source_kaggle_json) and not os.path.isfile(dest_kaggle_json):\n",
        "    Path(source_kaggle_json).rename(dest_kaggle_json)\n",
        "    print(f\"`{source_kaggle_json}` moved to `{dest_kaggle_json}`\")\n",
        "else:\n",
        "    print(f\"{source_kaggle_json} doesn't exists or/and {dest_kaggle_json} is already present\")"
      ],
      "metadata": {
        "colab": {
          "base_uri": "https://localhost:8080/"
        },
        "id": "lGXr8oqB4b8x",
        "outputId": "80ada602-053d-4800-a8a0-832a0c96ca97"
      },
      "execution_count": null,
      "outputs": [
        {
          "output_type": "stream",
          "name": "stdout",
          "text": [
            "`/root/.kaggle` dir has been created\n",
            "`/content/kaggle.json` moved to `/root/.kaggle/kaggle.json`\n"
          ]
        }
      ]
    },
    {
      "cell_type": "markdown",
      "source": [
        "## *(Optional)* Step 5: Check the existence of `~/.kaggle/kaggle.json`"
      ],
      "metadata": {
        "id": "02QtPUO2IkOJ"
      }
    },
    {
      "cell_type": "code",
      "source": [
        "# # get list of directories under \"/\"\n",
        "# os.listdir(\"/\")\n",
        "\n",
        "# # get list of directory under `home` directory\n",
        "# os.listdir(path=os.path.expanduser('~'))\n",
        "\n",
        "if os.path.isfile(dest_kaggle_json):\n",
        "    print(f\"{dest_kaggle_json} is present\")"
      ],
      "metadata": {
        "colab": {
          "base_uri": "https://localhost:8080/"
        },
        "id": "ttwj3KrMG6Zo",
        "outputId": "45411fcd-cbb2-4870-b4ff-fac2eed766d3"
      },
      "execution_count": null,
      "outputs": [
        {
          "output_type": "stream",
          "name": "stdout",
          "text": [
            "/root/.kaggle/kaggle.json is present\n"
          ]
        }
      ]
    },
    {
      "cell_type": "markdown",
      "source": [
        "## Step 6: Change the permission of `~/.kaggle/kaggle.json`"
      ],
      "metadata": {
        "id": "EzIHzfF-TLg2"
      }
    },
    {
      "cell_type": "code",
      "source": [
        "\"\"\"\n",
        "ref check: https://stackoverflow.com/questions/1861836/checking-file-permissions-in-linux-with-python\n",
        "\"\"\"\n"
      ],
      "metadata": {
        "id": "vWkNUJErYT7o"
      },
      "execution_count": null,
      "outputs": []
    },
    {
      "cell_type": "code",
      "source": [
        "\"\"\"\n",
        "! chmod 600 ~/.kaggle/kaggle.json\n",
        "\"\"\"\n",
        "os.chmod(path=dest_kaggle_json, mode=600)"
      ],
      "metadata": {
        "id": "nSQI81r_TPvW"
      },
      "execution_count": null,
      "outputs": []
    },
    {
      "cell_type": "markdown",
      "source": [
        "## *(Optional)* Step 7: Get Kaggle dataset lists"
      ],
      "metadata": {
        "id": "3poJVqVnVMO_"
      }
    },
    {
      "cell_type": "code",
      "source": [
        "\"\"\"\n",
        "! kaggle datasets list\n",
        "\"\"\""
      ],
      "metadata": {
        "colab": {
          "base_uri": "https://localhost:8080/",
          "height": 35
        },
        "id": "6ZGoccwES226",
        "outputId": "951382ae-6ae9-4f7f-b5a8-5460854059f5"
      },
      "execution_count": null,
      "outputs": [
        {
          "output_type": "execute_result",
          "data": {
            "text/plain": [
              "'\\n! kaggle datasets list\\n'"
            ],
            "application/vnd.google.colaboratory.intrinsic+json": {
              "type": "string"
            }
          },
          "metadata": {},
          "execution_count": 7
        }
      ]
    },
    {
      "cell_type": "markdown",
      "source": [
        "## Step 8: Download the dataset from kaggle"
      ],
      "metadata": {
        "id": "y1-ov0XNBCB8"
      }
    },
    {
      "cell_type": "code",
      "source": [
        "\"\"\"\n",
        "!kaggle datasets download -d sergeymedvedev/customer_segmentation\n",
        "\"\"\"\n",
        "import zipfile\n",
        "from kaggle.api.kaggle_api_extended import KaggleApi\n",
        "\n",
        "\n",
        "# authenticate the kaggle api\n",
        "api = KaggleApi()\n",
        "api.authenticate()\n",
        "\n",
        "dataset_owner = \"sergeymedvedev\"\n",
        "dataset_name = \"customer_segmentation\"\n",
        "kaggle_dataset = \"/\".join([dataset_owner, dataset_name])\n",
        "# kaggle_dataset_path = os.path.join(os.getcwd(), \"kaggle_dataset\", dataset_name)\n",
        "local_downloaded_path = os.path.join(os.getcwd(), \"downloaded\")\n",
        "\n",
        "print(f\"{kaggle_dataset=}\")\n",
        "# print(f\"{kaggle_dataset_path=}\")\n",
        "print(f\"{local_downloaded_path=}\")\n",
        "\n",
        "api.dataset_download_files(kaggle_dataset,\n",
        "                            path=local_downloaded_path,\n",
        "                            force=False,\n",
        "                            quiet=True,\n",
        "                            unzip=True)\n",
        "\n",
        "# unzip the file\n",
        "# zip_ref = zipfile.ZipFile(local_downloaded_path+'customer_segmentation.zip', 'r')\n",
        "# zip_ref.extractall(kaggle_dataset_path)\n",
        "# zip_ref.close()"
      ],
      "metadata": {
        "id": "uyjuQl14VGYx",
        "outputId": "7977589d-fe6d-42cd-d4ad-9fdb14045e30",
        "colab": {
          "base_uri": "https://localhost:8080/"
        }
      },
      "execution_count": null,
      "outputs": [
        {
          "output_type": "stream",
          "name": "stdout",
          "text": [
            "kaggle_dataset='sergeymedvedev/customer_segmentation'\n",
            "kaggle_dataset_path='/content/kaggle_dataset/customer_segmentation'\n",
            "local_downloaded_path='/content/downloaded'\n"
          ]
        }
      ]
    },
    {
      "cell_type": "markdown",
      "source": [
        "## Step 9: Get the kaggle dataset files"
      ],
      "metadata": {
        "id": "u7nOOLgDlSxO"
      }
    },
    {
      "cell_type": "code",
      "source": [
        "for i in os.listdir(local_downloaded_path):\n",
        "    print(os.path.join(local_downloaded_path, i))"
      ],
      "metadata": {
        "id": "7DX8mP-MZwSB",
        "outputId": "6764f490-9883-433a-bf53-f19e6af174fd",
        "colab": {
          "base_uri": "https://localhost:8080/"
        }
      },
      "execution_count": null,
      "outputs": [
        {
          "output_type": "stream",
          "name": "stdout",
          "text": [
            "/content/downloaded/customer_segmentation.csv\n"
          ]
        }
      ]
    },
    {
      "cell_type": "markdown",
      "source": [
        "## Another way of getting kaggle datasets"
      ],
      "metadata": {
        "id": "ufhhE6LkmYDN"
      }
    },
    {
      "cell_type": "code",
      "source": [
        "\"\"\"\n",
        "!pip install -q opendatasets\n",
        "\n",
        "import opendatasets as od\n",
        "import pandas as pd\n",
        "\n",
        "od.download('https://www.kaggle.com/datasets/saurabhbagchi/dish-network-hackathon') # insert ypu kaggle  username and key\n",
        "pddf = pd.read_csv('/content/dish-network-hackathon/Test_Dataset.csv')\n",
        "\"\"\"\n"
      ],
      "metadata": {
        "id": "u3w0VtMyevnn"
      },
      "execution_count": null,
      "outputs": []
    },
    {
      "cell_type": "markdown",
      "source": [
        "# What you have learnt from this notebook:\n",
        "\n",
        "id | Topic | Description | Comments\n",
        ":--- | :---: | :--- | :---\n",
        "1 | **os.path.isfile()** | This only checks the file not any dir | |\n",
        "2 | **os.path.exists()** | This checks the exitence of file, dir both | |\n",
        "3 | **os.makedirs()** | works same as mkdir command to create new directory | |\n",
        "4 | **os.getcwd()**| get current working directory | |\n",
        "5 | **os.path.join()** | | |\n",
        "6 | **os.path.expanduser('~')** | get home directory | |\n",
        "7 | **os.chmod()** | its used to change the file mode like 600 | |\n",
        "8 | **pathlib.Path** | used to move the file by renaming it | |"
      ],
      "metadata": {
        "id": "BGq_0eYQPDxY"
      }
    }
  ]
}