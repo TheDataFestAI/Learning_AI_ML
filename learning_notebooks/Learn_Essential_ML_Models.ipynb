{
  "nbformat": 4,
  "nbformat_minor": 0,
  "metadata": {
    "colab": {
      "provenance": [],
      "authorship_tag": "ABX9TyOBPq3s4SgfHlu+zhOo5FmJ",
      "include_colab_link": true
    },
    "kernelspec": {
      "name": "python3",
      "display_name": "Python 3"
    },
    "language_info": {
      "name": "python"
    }
  },
  "cells": [
    {
      "cell_type": "markdown",
      "metadata": {
        "id": "view-in-github",
        "colab_type": "text"
      },
      "source": [
        "<a href=\"https://colab.research.google.com/github/TheDataFestAI/Learning_AI_ML/blob/main/learning_notebooks/Learn_Essential_ML_Models.ipynb\" target=\"_parent\"><img src=\"https://colab.research.google.com/assets/colab-badge.svg\" alt=\"Open In Colab\"/></a>"
      ]
    },
    {
      "cell_type": "markdown",
      "source": [
        "![image](https://github.com/TheDataFestAI/Learning_AI_ML/assets/108976294/e71244b2-fd33-4141-be44-e1ea8f52df57)"
      ],
      "metadata": {
        "id": "83KelHai5qDr"
      }
    },
    {
      "cell_type": "code",
      "execution_count": null,
      "metadata": {
        "id": "sKyRs6nD5lsz"
      },
      "outputs": [],
      "source": []
    }
  ]
}