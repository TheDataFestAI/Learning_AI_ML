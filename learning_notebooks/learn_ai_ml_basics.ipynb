{
  "nbformat": 4,
  "nbformat_minor": 0,
  "metadata": {
    "colab": {
      "provenance": [],
      "toc_visible": true,
      "authorship_tag": "ABX9TyPNLQx0rsQKwuyxItOLTCxK",
      "include_colab_link": true
    },
    "kernelspec": {
      "name": "python3",
      "display_name": "Python 3"
    },
    "language_info": {
      "name": "python"
    }
  },
  "cells": [
    {
      "cell_type": "markdown",
      "metadata": {
        "id": "view-in-github",
        "colab_type": "text"
      },
      "source": [
        "<a href=\"https://colab.research.google.com/github/TheDataFestAI/Learning_Resources/blob/main/learning_notebooks/learn_ai_ml_basics.ipynb\" target=\"_parent\"><img src=\"https://colab.research.google.com/assets/colab-badge.svg\" alt=\"Open In Colab\"/></a>"
      ]
    },
    {
      "cell_type": "code",
      "execution_count": null,
      "metadata": {
        "id": "NmU46G4DNh_w"
      },
      "outputs": [],
      "source": [
        "# Learn Machine Leaning (Basics)\n",
        "\n",
        "1. ML playlist:\n",
        "    1. By Krish Naik: https://www.youtube.com/playlist?list=PLZoTAELRMXVPjaAzURB77Kz0YXxj65tYz\n",
        "\n",
        "2. Data Visualization:\n",
        "    1. Geeks for geeks:  https://www.geeksforgeeks.org/data-visualization-in-jupyter-notebook/"
      ]
    },
    {
      "cell_type": "markdown",
      "source": [
        "# AI vs ML vs DL vs DS:"
      ],
      "metadata": {
        "id": "BNhwg_nJeQYl"
      }
    },
    {
      "cell_type": "markdown",
      "source": [
        "1. AI (**Artificial Intelligence**):\n",
        "    1. AI is the entire universe.\n",
        "    2. `AI is an application which can perform/execute the job/task without human intervention`.\n",
        "    3. Example: youtube ads, netflix recommendation, self driving cars.\n",
        "\n",
        "2. ML (**Machine Learning**):\n",
        "    1. ML is the subset of AI.\n",
        "    2. provides stats tools to `analyse the data, visualize the data` and `do forecasting and predict the data`\n",
        "\n",
        "3. DL (**Deep Learning**):\n",
        "    1. DL is the subset of ML.\n",
        "    2. mimic the human brain, develop multi layerd Neural Network to train the machine to solve complex problems like human.\n",
        "\n",
        "4. DS (**Data Science**):\n",
        "    1. DS is part of everything"
      ],
      "metadata": {
        "id": "yTnwBORweQUf"
      }
    },
    {
      "cell_type": "markdown",
      "source": [
        "# Models, Features:"
      ],
      "metadata": {
        "id": "xu9mpxsaeQSa"
      }
    },
    {
      "cell_type": "markdown",
      "source": [
        "1. ML Models:\n",
        "    1. Its an hypothesis.\n",
        "    2. Its use fit() to get trained and predict() to give the prediction\n",
        "    3. **Sample Model to predict the `weight` based of `age`**\n",
        "\n",
        "2. Features:\n",
        "    1. Independent Features:\n",
        "        1. **so `age` will be independent feature and called as \"X\".**\n",
        "    2. Dependent Features:\n",
        "        1.  **`weight` will be dependent feature and called as \"y\" as its depends on `age`.**"
      ],
      "metadata": {
        "id": "bkYLI9kCeQN-"
      }
    },
    {
      "cell_type": "markdown",
      "source": [
        "# Supervised ML and Unsupervised ML:"
      ],
      "metadata": {
        "id": "Y66Y9TG9eQMN"
      }
    },
    {
      "cell_type": "markdown",
      "source": [
        "1. Supervised ML and Unsupervised ML are the part of `Machine and Deep Learning`.\n",
        "\n",
        "2. Supervised ML:\n",
        "    1. Regression\n",
        "    2. Classification\n",
        "\n",
        "3. Unsupervised ML:\n",
        "    1. Clustering\n",
        "    2. Dimensionality Reduction\n",
        "    3. Re-inforcement learning (Semi Supervised)"
      ],
      "metadata": {
        "id": "lkuCcJOAeQFD"
      }
    },
    {
      "cell_type": "markdown",
      "source": [
        "## Supervised ML:"
      ],
      "metadata": {
        "id": "o3Uo_8qHeP1-"
      }
    },
    {
      "cell_type": "markdown",
      "source": [
        "### Regression and Classification"
      ],
      "metadata": {
        "id": "KtSV7BTdei1u"
      }
    },
    {
      "cell_type": "markdown",
      "source": [
        "1. Regression:\n",
        "    1. `y` should be continuous variable\n",
        "    \n",
        "2. Classification:\n",
        "    1. banary classification\n",
        "        1. `y` should have 2 values like `yes and no` or `true and false` or `pass and fail`\n",
        "    2. multi class classification\n",
        "        1. `y` should have more than 2 values but not continuous like `child, adult and old` or `tier 1, tier 2 and tier 3 cities`"
      ],
      "metadata": {
        "id": "PrVINZhdejS8"
      }
    },
    {
      "cell_type": "markdown",
      "source": [
        "## Unsupervised ML:"
      ],
      "metadata": {
        "id": "ZQrgYnLeej9q"
      }
    },
    {
      "cell_type": "markdown",
      "source": [
        "### Clustering:\n"
      ],
      "metadata": {
        "id": "W_b465BDekYN"
      }
    },
    {
      "cell_type": "markdown",
      "source": [
        "1. There is no dependent variable or `y`\n",
        "2. we are grouping/cluster the similar data based on the independent features or `X`\n",
        "3. like `K-means`"
      ],
      "metadata": {
        "id": "iiJ16sp1ekxe"
      }
    },
    {
      "cell_type": "markdown",
      "source": [
        "### Dimensionality Reduction:"
      ],
      "metadata": {
        "id": "iumxQCV0ezdk"
      }
    },
    {
      "cell_type": "markdown",
      "source": [
        "1. Reduce 1000 dimensions to 100 dimensions.\n",
        "2. like `PCA, LDA`"
      ],
      "metadata": {
        "id": "rwELhSUMez3E"
      }
    },
    {
      "cell_type": "markdown",
      "source": [
        "# ML Models:"
      ],
      "metadata": {
        "id": "DEIkS19be_8-"
      }
    },
    {
      "cell_type": "markdown",
      "source": [
        " Supervised | Unsupervised\n",
        " --- | ---\n",
        " Linear Regression | K-means\n",
        " Ridge, Lasso | DB Scan\n",
        " Logistic Regression | Hierarchical clustering\n",
        " Decission Tree | K nearest neigbour clustering\n",
        " Ada Boost | PCA\n",
        " Random Forest | LDA\n",
        " Gradient |\n",
        " XG Boost\n",
        " Naive Baise |\n",
        " KNN |\n",
        " SVN |\n"
      ],
      "metadata": {
        "id": "25QPdyJAe0Np"
      }
    }
  ]
}