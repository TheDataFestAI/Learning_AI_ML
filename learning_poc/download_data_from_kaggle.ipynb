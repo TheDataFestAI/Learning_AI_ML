{
  "nbformat": 4,
  "nbformat_minor": 0,
  "metadata": {
    "colab": {
      "provenance": [],
      "toc_visible": true,
      "authorship_tag": "ABX9TyPVMuDeT0iuhuVEPL7psj+d",
      "include_colab_link": true
    },
    "kernelspec": {
      "name": "python3",
      "display_name": "Python 3"
    },
    "language_info": {
      "name": "python"
    }
  },
  "cells": [
    {
      "cell_type": "markdown",
      "metadata": {
        "id": "view-in-github",
        "colab_type": "text"
      },
      "source": [
        "<a href=\"https://colab.research.google.com/github/TheDataFestAI/Learning_Resources/blob/main/learning_poc/download_data_from_kaggle.ipynb\" target=\"_parent\"><img src=\"https://colab.research.google.com/assets/colab-badge.svg\" alt=\"Open In Colab\"/></a>"
      ]
    },
    {
      "cell_type": "markdown",
      "source": [
        "# Download Data From Kaggle\n",
        "\n",
        "Reference:\n",
        "1. Download data from kaggle into colab:\n",
        "    1. https://www.kaggle.com/discussions/general/74235\n",
        "\n",
        "2. Kaggle Api:\n",
        "    1. https://github.com/Kaggle/kaggle-api\n"
      ],
      "metadata": {
        "id": "Q9uKTLnIuwP2"
      }
    },
    {
      "cell_type": "markdown",
      "source": [
        "## Step 1: Generate New Api Access Token from Your Kaggle Personal Account"
      ],
      "metadata": {
        "id": "lZeD9VpUwlDa"
      }
    },
    {
      "cell_type": "markdown",
      "source": [
        "## Step 2: Install the `Python Packages`"
      ],
      "metadata": {
        "id": "ma4MhT50u3na"
      }
    },
    {
      "cell_type": "code",
      "execution_count": 3,
      "metadata": {
        "id": "y8tTQ1UGuemI"
      },
      "outputs": [],
      "source": [
        "! pip install -q kaggle"
      ]
    },
    {
      "cell_type": "markdown",
      "source": [
        "## step 3: Upload the `kaggle.json` file into colab local directory"
      ],
      "metadata": {
        "id": "czX6zE5_5ZAb"
      }
    },
    {
      "cell_type": "code",
      "source": [
        "\"\"\"\n",
        "https://github.com/googlecolab/colabtools/blob/main/google/colab/files.py\n",
        "\"\"\"\n",
        "from google.colab import files\n",
        "\n",
        "kaggle_filename = \"kaggle.json\"\n",
        "\n",
        "# used \"_upload_file()\" to specify the filename after upload into the colab\n",
        "# used \"out\" variable to store the return value from \"_upload_file()\" for not to display the file content\n",
        "out = files._upload_file(filepath=kaggle_filename)"
      ],
      "metadata": {
        "colab": {
          "base_uri": "https://localhost:8080/",
          "height": 55
        },
        "id": "Gu6dWEzDwHE7",
        "outputId": "50cd8a35-d8fd-41df-9fc2-452fe3f84704"
      },
      "execution_count": 49,
      "outputs": [
        {
          "output_type": "display_data",
          "data": {
            "text/plain": [
              "<IPython.core.display.HTML object>"
            ],
            "text/html": [
              "\n",
              "     <input type=\"file\" id=\"files-befa8998-1a86-44da-bcb8-5a2f759e0753\" name=\"files[]\"  disabled\n",
              "        style=\"border:none\" />\n",
              "     <output id=\"result-befa8998-1a86-44da-bcb8-5a2f759e0753\">\n",
              "      Upload widget is only available when the cell has been executed in the\n",
              "      current browser session. Please rerun this cell to enable.\n",
              "      </output>\n",
              "      <script>// Copyright 2017 Google LLC\n",
              "//\n",
              "// Licensed under the Apache License, Version 2.0 (the \"License\");\n",
              "// you may not use this file except in compliance with the License.\n",
              "// You may obtain a copy of the License at\n",
              "//\n",
              "//      http://www.apache.org/licenses/LICENSE-2.0\n",
              "//\n",
              "// Unless required by applicable law or agreed to in writing, software\n",
              "// distributed under the License is distributed on an \"AS IS\" BASIS,\n",
              "// WITHOUT WARRANTIES OR CONDITIONS OF ANY KIND, either express or implied.\n",
              "// See the License for the specific language governing permissions and\n",
              "// limitations under the License.\n",
              "\n",
              "/**\n",
              " * @fileoverview Helpers for google.colab Python module.\n",
              " */\n",
              "(function(scope) {\n",
              "function span(text, styleAttributes = {}) {\n",
              "  const element = document.createElement('span');\n",
              "  element.textContent = text;\n",
              "  for (const key of Object.keys(styleAttributes)) {\n",
              "    element.style[key] = styleAttributes[key];\n",
              "  }\n",
              "  return element;\n",
              "}\n",
              "\n",
              "// Max number of bytes which will be uploaded at a time.\n",
              "const MAX_PAYLOAD_SIZE = 100 * 1024;\n",
              "\n",
              "function _uploadFiles(inputId, outputId) {\n",
              "  const steps = uploadFilesStep(inputId, outputId);\n",
              "  const outputElement = document.getElementById(outputId);\n",
              "  // Cache steps on the outputElement to make it available for the next call\n",
              "  // to uploadFilesContinue from Python.\n",
              "  outputElement.steps = steps;\n",
              "\n",
              "  return _uploadFilesContinue(outputId);\n",
              "}\n",
              "\n",
              "// This is roughly an async generator (not supported in the browser yet),\n",
              "// where there are multiple asynchronous steps and the Python side is going\n",
              "// to poll for completion of each step.\n",
              "// This uses a Promise to block the python side on completion of each step,\n",
              "// then passes the result of the previous step as the input to the next step.\n",
              "function _uploadFilesContinue(outputId) {\n",
              "  const outputElement = document.getElementById(outputId);\n",
              "  const steps = outputElement.steps;\n",
              "\n",
              "  const next = steps.next(outputElement.lastPromiseValue);\n",
              "  return Promise.resolve(next.value.promise).then((value) => {\n",
              "    // Cache the last promise value to make it available to the next\n",
              "    // step of the generator.\n",
              "    outputElement.lastPromiseValue = value;\n",
              "    return next.value.response;\n",
              "  });\n",
              "}\n",
              "\n",
              "/**\n",
              " * Generator function which is called between each async step of the upload\n",
              " * process.\n",
              " * @param {string} inputId Element ID of the input file picker element.\n",
              " * @param {string} outputId Element ID of the output display.\n",
              " * @return {!Iterable<!Object>} Iterable of next steps.\n",
              " */\n",
              "function* uploadFilesStep(inputId, outputId) {\n",
              "  const inputElement = document.getElementById(inputId);\n",
              "  inputElement.disabled = false;\n",
              "\n",
              "  const outputElement = document.getElementById(outputId);\n",
              "  outputElement.innerHTML = '';\n",
              "\n",
              "  const pickedPromise = new Promise((resolve) => {\n",
              "    inputElement.addEventListener('change', (e) => {\n",
              "      resolve(e.target.files);\n",
              "    });\n",
              "  });\n",
              "\n",
              "  const cancel = document.createElement('button');\n",
              "  inputElement.parentElement.appendChild(cancel);\n",
              "  cancel.textContent = 'Cancel upload';\n",
              "  const cancelPromise = new Promise((resolve) => {\n",
              "    cancel.onclick = () => {\n",
              "      resolve(null);\n",
              "    };\n",
              "  });\n",
              "\n",
              "  // Wait for the user to pick the files.\n",
              "  const files = yield {\n",
              "    promise: Promise.race([pickedPromise, cancelPromise]),\n",
              "    response: {\n",
              "      action: 'starting',\n",
              "    }\n",
              "  };\n",
              "\n",
              "  cancel.remove();\n",
              "\n",
              "  // Disable the input element since further picks are not allowed.\n",
              "  inputElement.disabled = true;\n",
              "\n",
              "  if (!files) {\n",
              "    return {\n",
              "      response: {\n",
              "        action: 'complete',\n",
              "      }\n",
              "    };\n",
              "  }\n",
              "\n",
              "  for (const file of files) {\n",
              "    const li = document.createElement('li');\n",
              "    li.append(span(file.name, {fontWeight: 'bold'}));\n",
              "    li.append(span(\n",
              "        `(${file.type || 'n/a'}) - ${file.size} bytes, ` +\n",
              "        `last modified: ${\n",
              "            file.lastModifiedDate ? file.lastModifiedDate.toLocaleDateString() :\n",
              "                                    'n/a'} - `));\n",
              "    const percent = span('0% done');\n",
              "    li.appendChild(percent);\n",
              "\n",
              "    outputElement.appendChild(li);\n",
              "\n",
              "    const fileDataPromise = new Promise((resolve) => {\n",
              "      const reader = new FileReader();\n",
              "      reader.onload = (e) => {\n",
              "        resolve(e.target.result);\n",
              "      };\n",
              "      reader.readAsArrayBuffer(file);\n",
              "    });\n",
              "    // Wait for the data to be ready.\n",
              "    let fileData = yield {\n",
              "      promise: fileDataPromise,\n",
              "      response: {\n",
              "        action: 'continue',\n",
              "      }\n",
              "    };\n",
              "\n",
              "    // Use a chunked sending to avoid message size limits. See b/62115660.\n",
              "    let position = 0;\n",
              "    do {\n",
              "      const length = Math.min(fileData.byteLength - position, MAX_PAYLOAD_SIZE);\n",
              "      const chunk = new Uint8Array(fileData, position, length);\n",
              "      position += length;\n",
              "\n",
              "      const base64 = btoa(String.fromCharCode.apply(null, chunk));\n",
              "      yield {\n",
              "        response: {\n",
              "          action: 'append',\n",
              "          file: file.name,\n",
              "          data: base64,\n",
              "        },\n",
              "      };\n",
              "\n",
              "      let percentDone = fileData.byteLength === 0 ?\n",
              "          100 :\n",
              "          Math.round((position / fileData.byteLength) * 100);\n",
              "      percent.textContent = `${percentDone}% done`;\n",
              "\n",
              "    } while (position < fileData.byteLength);\n",
              "  }\n",
              "\n",
              "  // All done.\n",
              "  yield {\n",
              "    response: {\n",
              "      action: 'complete',\n",
              "    }\n",
              "  };\n",
              "}\n",
              "\n",
              "scope.google = scope.google || {};\n",
              "scope.google.colab = scope.google.colab || {};\n",
              "scope.google.colab._files = {\n",
              "  _uploadFiles,\n",
              "  _uploadFilesContinue,\n",
              "};\n",
              "})(self);\n",
              "</script> "
            ]
          },
          "metadata": {}
        }
      ]
    },
    {
      "cell_type": "markdown",
      "source": [
        "## Step 4: Create `~/.kaggle/` dir and move `kaggle.json` there"
      ],
      "metadata": {
        "id": "xaZD67DQA5xU"
      }
    },
    {
      "cell_type": "code",
      "source": [
        "\"\"\"\n",
        "! mkdir ~/.kaggle\n",
        "! cp kaggle.json ~/.kaggle/\n",
        "\n",
        "Replicated the above unix commands with python 'os' module\n",
        "\"\"\"\n",
        "import os\n",
        "from pathlib import Path\n",
        "\n",
        "\n",
        "home_dir = os.path.expanduser('~')\n",
        "kaggle_key_dir = os.path.join(home_dir, \".kaggle\")\n",
        "source_kaggle_json = os.path.abspath(os.path.join(os.getcwd(), kaggle_filename))\n",
        "dest_kaggle_json = os.path.join(kaggle_key_dir, kaggle_filename)\n",
        "\n",
        "# # create the `~/.kaggle/` directory\n",
        "# used \"os.path.expanduser('~')\" to get home directory path\n",
        "# if \".kaggle\" in os.listdir(path=home_dir):\n",
        "# didn't use the above if condition as listdir() may consume more processing if list of dirs are more\n",
        "if os.path.exists(kaggle_key_dir):\n",
        "    print(f\"`{kaggle_key_dir}` dir is already present\")\n",
        "else:\n",
        "    os.makedirs(name=kaggle_key_dir, exist_ok=True)\n",
        "    print(f\"`{kaggle_key_dir}` dir has been created\")\n",
        "\n",
        "# # move `kaggle.json` into `~/.kaggle/` directory\n",
        "if os.path.isfile(source_kaggle_json) and not os.path.isfile(dest_kaggle_json):\n",
        "    Path(source_kaggle_json).rename(dest_kaggle_json)\n",
        "    print(f\"`{source_kaggle_json}` moved to `{dest_kaggle_json}`\")\n",
        "else:\n",
        "    print(f\"{source_kaggle_json} doesn't exists or/and {dest_kaggle_json} is already present\")"
      ],
      "metadata": {
        "colab": {
          "base_uri": "https://localhost:8080/"
        },
        "id": "lGXr8oqB4b8x",
        "outputId": "65d022e5-cc3e-4089-cd35-7d4e5ba9e131"
      },
      "execution_count": 59,
      "outputs": [
        {
          "output_type": "stream",
          "name": "stdout",
          "text": [
            "`/root/.kaggle` dir is already present\n",
            "/content/kaggle.json doesn't exists or/and /root/.kaggle/kaggle.json is already present\n"
          ]
        }
      ]
    },
    {
      "cell_type": "markdown",
      "source": [
        "## *(Optional)* Step 5: Check the existence of `~/.kaggle/kaggle.json`"
      ],
      "metadata": {
        "id": "02QtPUO2IkOJ"
      }
    },
    {
      "cell_type": "code",
      "source": [
        "# # get list of directories under \"/\"\n",
        "# os.listdir(\"/\")\n",
        "\n",
        "# # get list of directory under `home` directory\n",
        "# os.listdir(path=os.path.expanduser('~'))\n",
        "\n",
        "if os.path.isfile(dest_kaggle_json):\n",
        "    print(f\"{dest_kaggle_json} is present\")"
      ],
      "metadata": {
        "colab": {
          "base_uri": "https://localhost:8080/"
        },
        "id": "ttwj3KrMG6Zo",
        "outputId": "13e3e258-37cf-49b9-93fa-8df3dc7efce0"
      },
      "execution_count": 58,
      "outputs": [
        {
          "output_type": "stream",
          "name": "stdout",
          "text": [
            "/root/.kaggle/kaggle.json is present\n"
          ]
        }
      ]
    },
    {
      "cell_type": "markdown",
      "source": [
        "## Step 6: Change the permission of `~/.kaggle/kaggle.json`"
      ],
      "metadata": {
        "id": "EzIHzfF-TLg2"
      }
    },
    {
      "cell_type": "code",
      "source": [
        "\"\"\"\n",
        "! chmod 600 ~/.kaggle/kaggle.json\n",
        "\"\"\"\n",
        "os.chmod(path=dest_kaggle_json, mode=600)"
      ],
      "metadata": {
        "id": "nSQI81r_TPvW"
      },
      "execution_count": 63,
      "outputs": []
    },
    {
      "cell_type": "markdown",
      "source": [
        "## Get Kaggle dataset lists"
      ],
      "metadata": {
        "id": "3poJVqVnVMO_"
      }
    },
    {
      "cell_type": "code",
      "source": [
        "\"\"\"\n",
        "! kaggle datasets list\n",
        "\"\"\""
      ],
      "metadata": {
        "colab": {
          "base_uri": "https://localhost:8080/"
        },
        "id": "6ZGoccwES226",
        "outputId": "8658a1b9-064f-4053-b12f-80a4deb99ba2"
      },
      "execution_count": 64,
      "outputs": [
        {
          "output_type": "stream",
          "name": "stdout",
          "text": [
            "ref                                                    title                                        size  lastUpdated          downloadCount  voteCount  usabilityRating  \n",
            "-----------------------------------------------------  ------------------------------------------  -----  -------------------  -------------  ---------  ---------------  \n",
            "thedrcat/daigt-v2-train-dataset                        DAIGT V2 Train Dataset                       29MB  2023-11-16 01:38:36           2160        203  1.0              \n",
            "thedrcat/daigt-proper-train-dataset                    DAIGT Proper Train Dataset                  119MB  2023-11-05 14:03:25           1950        158  1.0              \n",
            "muhammadbinimran/housing-price-prediction-data         Housing Price Prediction Data               763KB  2023-11-21 17:56:32           9970        168  1.0              \n",
            "carlmcbrideellis/llm-7-prompt-training-dataset         LLM: 7 prompt training dataset               41MB  2023-11-15 07:32:56           1774        131  1.0              \n",
            "thedrcat/daigt-external-train-dataset                  DAIGT External Train Dataset                435MB  2023-11-06 17:10:37            320         44  1.0              \n",
            "thedevastator/netflix-imdb-scores                      Netflix IMDB Scores                         699KB  2023-12-03 14:10:34           4151         71  1.0              \n",
            "jocelyndumlao/cardiovascular-disease-dataset           Cardiovascular_Disease_Dataset              411KB  2023-12-09 06:51:28           1773         65  1.0              \n",
            "everydaycodings/produce-prices-dataset                 Fruits and Vegetables Prices Dataset        232KB  2023-12-11 13:40:33           1859         40  1.0              \n",
            "henryshan/starbucks                                    Starbucks                                     5KB  2023-12-06 03:07:49           2760         63  1.0              \n",
            "dansbecker/melbourne-housing-snapshot                  Melbourne Housing Snapshot                  451KB  2018-06-05 12:52:24         133470       1402  0.7058824        \n",
            "jacksondivakarr/phone-classification-dataset           Phone Classification Dataset                205KB  2023-12-12 15:21:07            827         24  1.0              \n",
            "thedevastator/books-sales-and-ratings                  Books Sales and Ratings                      53KB  2023-12-06 04:54:33           2456         31  1.0              \n",
            "spoorthiuk/us-top-10k-artists-and-their-popular-songs  US Top 10K Artists and Their Popular Songs    3MB  2023-12-13 17:49:48            838         23  1.0              \n",
            "thedevastator/spotify-tracks-genre-dataset             Spotify Tracks Genre                          8MB  2023-11-30 04:25:48           2842         69  1.0              \n",
            "henryshan/meta-platforms-inc-meta                      Meta Stock Price                             56KB  2023-12-06 11:23:22            516         30  1.0              \n",
            "abdallahwagih/books-dataset                            Books Dataset                                 2MB  2023-12-13 02:26:07            701         31  1.0              \n",
            "thedevastator/c2c-fashion-store-user-data              C2C Fashion Store User Data                   2MB  2023-12-04 18:06:40            674         34  0.9411765        \n",
            "datasnaek/youtube-new                                  Trending YouTube Video Statistics           201MB  2019-06-03 00:56:47         227771       5281  0.7941176        \n",
            "tanshihjen/early-stage-diabetes-risk-prediction        early_stage_diabetes_risk_prediction          3KB  2023-12-04 14:31:55            888         30  1.0              \n",
            "derrekdevon/real-estate-sales-2001-2020                Real Estate Sales 2001-2020                  28MB  2023-12-07 15:36:26           1422         29  1.0              \n"
          ]
        }
      ]
    },
    {
      "cell_type": "markdown",
      "source": [
        "## Download the dataset from kaggle"
      ],
      "metadata": {
        "id": "y1-ov0XNBCB8"
      }
    },
    {
      "cell_type": "code",
      "source": [
        "\"\"\"\n",
        "# sample code\n",
        "\"\"\""
      ],
      "metadata": {
        "id": "uyjuQl14VGYx"
      },
      "execution_count": null,
      "outputs": []
    },
    {
      "cell_type": "markdown",
      "source": [
        "# What you have learnt from this notebook:\n",
        "\n",
        "id | Topic | Description | Comments\n",
        ":--- | :---: | :--- | :---\n",
        "1 | **os.path.isfile()** | This only checks the file not any dir | |\n",
        "2 | **os.path.exists()** | This checks the exitence of file, dir both | |\n",
        "3 | **os.makedirs()** | works same as mkdir command to create new directory | |\n",
        "4 | **os.getcwd()**| get current working directory | |\n",
        "5 | **os.path.join()** | | |\n",
        "6 | **os.path.expanduser('~')** | get home directory | |\n",
        "7 | **os.chmod()** | its used to change the file mode like 600 | |\n",
        "8 | **pathlib.Path** | used to move the file by renaming it | |"
      ],
      "metadata": {
        "id": "BGq_0eYQPDxY"
      }
    }
  ]
}