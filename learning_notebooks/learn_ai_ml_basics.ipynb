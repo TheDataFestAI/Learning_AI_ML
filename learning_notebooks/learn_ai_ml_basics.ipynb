{
  "nbformat": 4,
  "nbformat_minor": 0,
  "metadata": {
    "colab": {
      "provenance": [],
      "toc_visible": true,
      "authorship_tag": "ABX9TyOFAwm6R4i454NtzS02bXlV",
      "include_colab_link": true
    },
    "kernelspec": {
      "name": "python3",
      "display_name": "Python 3"
    },
    "language_info": {
      "name": "python"
    }
  },
  "cells": [
    {
      "cell_type": "markdown",
      "metadata": {
        "id": "view-in-github",
        "colab_type": "text"
      },
      "source": [
        "<a href=\"https://colab.research.google.com/github/TheDataFestAI/Learning_Resources/blob/main/learning_notebooks/learn_ai_ml_basics.ipynb\" target=\"_parent\"><img src=\"https://colab.research.google.com/assets/colab-badge.svg\" alt=\"Open In Colab\"/></a>"
      ]
    },
    {
      "cell_type": "code",
      "execution_count": null,
      "metadata": {
        "id": "NmU46G4DNh_w"
      },
      "outputs": [],
      "source": [
        "# Learn Machine Leaning (Basics)\n",
        "\n",
        "1. ML playlist:\n",
        "    1. By Krish Naik: https://www.youtube.com/playlist?list=PLZoTAELRMXVPjaAzURB77Kz0YXxj65tYz\n",
        "    2. Notes of Krish Naik: https://www.linkedin.com/posts/raghavendramanibommuluri_7-days-machine-learning-by-krish-naik-activity-7073355742551945216-M9-D/?utm_source=share&utm_medium=member_android\n",
        "\n",
        "2. Google ML Crash Course:\n",
        "    1. https://developers.google.com/machine-learning/intro-to-ml\n",
        "\n",
        "2. Data Visualization:\n",
        "    1. Geeks for geeks:  https://www.geeksforgeeks.org/data-visualization-in-jupyter-notebook/"
      ]
    },
    {
      "cell_type": "markdown",
      "source": [
        "# AI vs ML vs DL vs DS:"
      ],
      "metadata": {
        "id": "BNhwg_nJeQYl"
      }
    },
    {
      "cell_type": "markdown",
      "source": [
        "![image](https://github.com/TheDataFestAI/Learning_Resources/assets/108976294/39bc404a-ad4c-4c14-b5cb-3b9d79a07702)"
      ],
      "metadata": {
        "id": "BH_Yv9dmhlMf"
      }
    },
    {
      "cell_type": "markdown",
      "source": [
        "1. AI (**Artificial Intelligence**):\n",
        "    1. AI is the entire universe.\n",
        "    2. `AI is an application which can perform/execute the job/task without human intervention`.\n",
        "    3. Example: youtube ads, netflix recommendation, self driving cars.\n",
        "\n",
        "2. ML (**Machine Learning**):\n",
        "    1. ML is the subset of AI.\n",
        "    2. provides stats tools to `analyse the data, visualize the data` and `do forecasting and predict the data`\n",
        "\n",
        "3. DL (**Deep Learning**):\n",
        "    1. DL is the subset of ML.\n",
        "    2. mimic the human brain, develop multi layerd Neural Network to train the machine to solve complex problems like human.\n",
        "\n",
        "4. DS (**Data Science**):\n",
        "    1. DS is part of everything"
      ],
      "metadata": {
        "id": "yTnwBORweQUf"
      }
    },
    {
      "cell_type": "markdown",
      "source": [
        "# Models, Features:"
      ],
      "metadata": {
        "id": "xu9mpxsaeQSa"
      }
    },
    {
      "cell_type": "markdown",
      "source": [
        "1. ML Models:\n",
        "    1. Its an hypothesis.\n",
        "    2. Its use fit() to get trained and predict() to give the prediction\n",
        "    3. **Sample Model to predict the `weight` based of `age`**\n",
        "\n",
        "2. Features:\n",
        "    1. Independent Features:\n",
        "        1. **so `age` will be independent feature and called as \"X\".**\n",
        "    2. Dependent Features:\n",
        "        1.  **`weight` will be dependent feature and called as \"y\" as its depends on `age`.**"
      ],
      "metadata": {
        "id": "bkYLI9kCeQN-"
      }
    },
    {
      "cell_type": "markdown",
      "source": [
        " Supervised | Unsupervised\n",
        " --- | ---\n",
        " Linear Regression | K-means\n",
        " Ridge, Lasso | DB Scan\n",
        " Logistic Regression | Hierarchical clustering\n",
        " Decission Tree | K nearest neigbour clustering\n",
        " Ada Boost | PCA\n",
        " Random Forest | LDA\n",
        " Gradient Boosting |\n",
        " XG Boost |\n",
        " Naive Baye's |\n",
        " KNN |\n",
        " SVM |\n"
      ],
      "metadata": {
        "id": "25QPdyJAe0Np"
      }
    },
    {
      "cell_type": "markdown",
      "source": [
        "# Supervised ML and Unsupervised ML:"
      ],
      "metadata": {
        "id": "Y66Y9TG9eQMN"
      }
    },
    {
      "cell_type": "markdown",
      "source": [
        "1. Supervised ML and Unsupervised ML are the part of `Machine and Deep Learning`.\n",
        "\n",
        "2. Supervised ML:\n",
        "    1. Regression\n",
        "    2. Classification\n",
        "\n",
        "3. Unsupervised ML:\n",
        "    1. Clustering\n",
        "    2. Dimensionality Reduction\n",
        "    3. Re-inforcement learning (Semi Supervised)"
      ],
      "metadata": {
        "id": "lkuCcJOAeQFD"
      }
    },
    {
      "cell_type": "markdown",
      "source": [
        "# Supervised ML:"
      ],
      "metadata": {
        "id": "o3Uo_8qHeP1-"
      }
    },
    {
      "cell_type": "markdown",
      "source": [
        "## Regression and Classification:"
      ],
      "metadata": {
        "id": "KtSV7BTdei1u"
      }
    },
    {
      "cell_type": "markdown",
      "source": [
        "1. Regression:\n",
        "    1. `y` should be continuous variable\n",
        "    \n",
        "2. Classification:\n",
        "    1. banary classification\n",
        "        1. `y` should have 2 values like `yes and no` or `true and false` or `pass and fail`\n",
        "    2. multi class classification\n",
        "        1. `y` should have more than 2 values but not continuous like `child, adult and old` or `tier 1, tier 2 and tier 3 cities`"
      ],
      "metadata": {
        "id": "PrVINZhdejS8"
      }
    },
    {
      "cell_type": "markdown",
      "source": [
        "## Linear Regression:"
      ],
      "metadata": {
        "id": "avaqw6bCgHHy"
      }
    },
    {
      "cell_type": "markdown",
      "source": [
        "img1 | img2\n",
        ":--- | :---\n",
        "![image](https://github.com/TheDataFestAI/Learning_Resources/assets/108976294/f1a83b24-4d59-47e9-88c9-399f102d7228) | ![image](https://github.com/TheDataFestAI/Learning_Resources/assets/108976294/54934127-8806-4362-bdca-10b6d382c69c)"
      ],
      "metadata": {
        "id": "59YIWjDLiIhk"
      }
    },
    {
      "cell_type": "markdown",
      "source": [
        "img3 | img4\n",
        ":--- | :---\n",
        "![image](https://github.com/TheDataFestAI/Learning_Resources/assets/108976294/57be6b61-ee5e-4180-9a03-136a7ce86ccd) | ![image](https://github.com/TheDataFestAI/Learning_Resources/assets/108976294/8b99d024-24b3-4942-8037-2f2fb1251daf)"
      ],
      "metadata": {
        "id": "W-TulJdHqOwr"
      }
    },
    {
      "cell_type": "markdown",
      "source": [
        "1. **Linear Regression equation**: `y = mx +c`\n",
        "    1. m is `slope or coefficient`\n",
        "    2. c is `Intercept`.\n",
        "\n",
        "2. **cost function** *(img2)*: used to get the best fitted linear line. Its also known as **Squared Error Function**.\n",
        "\n",
        "3. **Gradient Descent** *(img2)*: We will get it if we draw cost function graph. And we need to find the **Global Minimal** to get best fittedt line.\n",
        "\n",
        "4. *(img3)* We will use **Convergence Algorithm** to get **Global Minimal**\n",
        "\n",
        "5. **Learning Rate** *(img3)*: This is the rate through which how quickly and effectively we can reach to global minimal value.\n",
        "    1. So `Learning Rate can't be too small` then it will take huge time and more iteration to get global minimal.\n",
        "    2. `Learning Rate can't be too big` then it will not get proper global minimal as it will jump into +ve slove or -ve slope in gradient descent.\n",
        "    3. Learning Rate = 0.01\n",
        "\n",
        "6. *(img3)* In deep learning, we can stuck into **local minima**. So to get actual global minima, we are using **rms prop**, **adam optimizer**\n",
        "\n",
        "7. *(img4)* **Gradient Descent Algorithm**: same as **Convergence Algorithm**. Needs to repeat until convergence."
      ],
      "metadata": {
        "id": "PS5l7ygNqt0m"
      }
    },
    {
      "cell_type": "markdown",
      "source": [
        "## Performance Matrix"
      ],
      "metadata": {
        "id": "IgB_cv93CxhN"
      }
    },
    {
      "cell_type": "markdown",
      "source": [
        "### R^2 and Adjusted R^2\n",
        "\n",
        "1. *(img5)* R^2:\n",
        "    1. Its used to check how good the model is\n",
        "    2. The higher positive number in R^2, means model is good\n",
        "    3. Issues in R^2:\n",
        "        1. With Bedrooms feature, price is increasing, R^2 is 85%\n",
        "        2. With adding Location feature, price is increasing, R^2 is 90%\n",
        "        3. With adding Gender feature, price has no impact as gender is not corelated, still R^2 is 91%, **1% improved but still can't consider this is good model as gender is not co-related feature.\n",
        "\n",
        "2. *(img6)* Adjusted R^2:\n",
        "    1. It will decrease value **Adjusted R^2** while adding Gender feature as its not co-related.\n",
        "    \n"
      ],
      "metadata": {
        "id": "bKU_-gMyJD1Y"
      }
    },
    {
      "cell_type": "markdown",
      "source": [
        "img5 | img6\n",
        ":--- | :---\n",
        "![image](https://github.com/TheDataFestAI/Learning_Resources/assets/108976294/bb7415db-3e64-4ba8-9a26-e26fe403eab0) | ![image](https://github.com/TheDataFestAI/Learning_Resources/assets/108976294/62ebf4d7-7ea8-4679-bd1b-b2a9c05ea713)"
      ],
      "metadata": {
        "id": "Xybdvl_bKXrT"
      }
    },
    {
      "cell_type": "markdown",
      "source": [
        "# Unsupervised ML:"
      ],
      "metadata": {
        "id": "ZQrgYnLeej9q"
      }
    },
    {
      "cell_type": "markdown",
      "source": [
        "## Clustering:\n"
      ],
      "metadata": {
        "id": "W_b465BDekYN"
      }
    },
    {
      "cell_type": "markdown",
      "source": [
        "1. There is no dependent variable or `y`\n",
        "2. we are grouping/cluster the similar data based on the independent features or `X`\n",
        "3. like `K-means`"
      ],
      "metadata": {
        "id": "iiJ16sp1ekxe"
      }
    },
    {
      "cell_type": "markdown",
      "source": [
        "## Dimensionality Reduction:"
      ],
      "metadata": {
        "id": "iumxQCV0ezdk"
      }
    },
    {
      "cell_type": "markdown",
      "source": [
        "1. Reduce 1000 dimensions to 100 dimensions.\n",
        "2. like `PCA, LDA`"
      ],
      "metadata": {
        "id": "rwELhSUMez3E"
      }
    }
  ]
}